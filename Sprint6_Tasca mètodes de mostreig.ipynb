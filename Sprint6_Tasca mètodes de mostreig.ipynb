{
 "cells": [
  {
   "cell_type": "markdown",
   "metadata": {},
   "source": [
    "\n",
    "<div class=\"alert alert-block alert-info\"><font size=\"5\"><center><b><u>Sprint6_Tasca mètodes de mostreig\n",
    "   </u></b></center></font>\n",
    "\\begin{align*}Marc\\:Breysse\\end{align*}"
   ]
  },
  {
   "cell_type": "markdown",
   "metadata": {},
   "source": [
    "<span style=color:blue>*Aprèn a realitzar mostreig de les dades amb Python*</span>\n",
    "\n",
    "https://towardsdatascience.com/the-5-sampling-algorithms-every-data-scientist-need-to-know-43c7bc11d17c"
   ]
  },
  {
   "cell_type": "markdown",
   "metadata": {},
   "source": [
    "# <span style=color:darkblue>Nivell 1</span>"
   ]
  },
  {
   "cell_type": "markdown",
   "metadata": {},
   "source": [
    "<u style=color:blue>Exercici 1:</u>\n",
    "\n",
    "<span style=color:blue>Agafa un conjunt de dades de tema esportiu que t'agradi. Realitza un mostreig de les dades generant una mostra aleatòria simple i una mostra sistemàtica.</span>"
   ]
  },
  {
   "cell_type": "markdown",
   "metadata": {},
   "source": [
    " #### <span style=color:green><ins> Mostra aleatòria simple de 100 mostres  </ins></span>"
   ]
  },
  {
   "cell_type": "code",
   "execution_count": 1,
   "metadata": {
    "ExecuteTime": {
     "end_time": "2021-04-14T23:00:22.659658Z",
     "start_time": "2021-04-14T23:00:19.827006Z"
    }
   },
   "outputs": [],
   "source": [
    "import os\n",
    "import pandas as pd\n",
    "import numpy as np\n",
    "import seaborn as sns\n",
    "import warnings\n",
    "import matplotlib.pyplot as plt\n",
    "import timeit\n",
    "import random"
   ]
  },
  {
   "cell_type": "code",
   "execution_count": 2,
   "metadata": {
    "ExecuteTime": {
     "end_time": "2021-04-14T23:00:22.692546Z",
     "start_time": "2021-04-14T23:00:22.664314Z"
    }
   },
   "outputs": [],
   "source": [
    "#pd.read_csv('Web_access_log-akumenius.com.txt', sep='delimiter', header=None, engine='python')\n",
    "\n",
    "Mlb = pd.read_csv('MLB.txt', sep='\\t', encoding='utf-8')"
   ]
  },
  {
   "cell_type": "code",
   "execution_count": 3,
   "metadata": {
    "ExecuteTime": {
     "end_time": "2021-04-14T23:00:22.831399Z",
     "start_time": "2021-04-14T23:00:22.703533Z"
    }
   },
   "outputs": [
    {
     "data": {
      "text/plain": [
       "(828, 4)"
      ]
     },
     "execution_count": 3,
     "metadata": {},
     "output_type": "execute_result"
    }
   ],
   "source": [
    "Mlb.shape"
   ]
  },
  {
   "cell_type": "code",
   "execution_count": 4,
   "metadata": {
    "ExecuteTime": {
     "end_time": "2021-04-14T23:00:23.583238Z",
     "start_time": "2021-04-14T23:00:23.569242Z"
    }
   },
   "outputs": [
    {
     "data": {
      "text/plain": [
       "Index(['player', 'team', 'position', 'salary'], dtype='object')"
      ]
     },
     "execution_count": 4,
     "metadata": {},
     "output_type": "execute_result"
    }
   ],
   "source": [
    "Mlb.columns"
   ]
  },
  {
   "cell_type": "code",
   "execution_count": 5,
   "metadata": {
    "ExecuteTime": {
     "end_time": "2021-04-14T23:00:24.239202Z",
     "start_time": "2021-04-14T23:00:24.192283Z"
    },
    "scrolled": false
   },
   "outputs": [
    {
     "data": {
      "text/html": [
       "<div>\n",
       "<style scoped>\n",
       "    .dataframe tbody tr th:only-of-type {\n",
       "        vertical-align: middle;\n",
       "    }\n",
       "\n",
       "    .dataframe tbody tr th {\n",
       "        vertical-align: top;\n",
       "    }\n",
       "\n",
       "    .dataframe thead th {\n",
       "        text-align: right;\n",
       "    }\n",
       "</style>\n",
       "<table border=\"1\" class=\"dataframe\">\n",
       "  <thead>\n",
       "    <tr style=\"text-align: right;\">\n",
       "      <th></th>\n",
       "      <th>player</th>\n",
       "      <th>team</th>\n",
       "      <th>position</th>\n",
       "      <th>salary</th>\n",
       "    </tr>\n",
       "  </thead>\n",
       "  <tbody>\n",
       "    <tr>\n",
       "      <th>0</th>\n",
       "      <td>Brandon Webb</td>\n",
       "      <td>Arizona Diamondbacks</td>\n",
       "      <td>Pitcher</td>\n",
       "      <td>8500.0</td>\n",
       "    </tr>\n",
       "    <tr>\n",
       "      <th>1</th>\n",
       "      <td>Danny Haren</td>\n",
       "      <td>Arizona Diamondbacks</td>\n",
       "      <td>Pitcher</td>\n",
       "      <td>8250.0</td>\n",
       "    </tr>\n",
       "    <tr>\n",
       "      <th>2</th>\n",
       "      <td>Chris Snyder</td>\n",
       "      <td>Arizona Diamondbacks</td>\n",
       "      <td>Catcher</td>\n",
       "      <td>5250.0</td>\n",
       "    </tr>\n",
       "    <tr>\n",
       "      <th>3</th>\n",
       "      <td>Edwin Jackson</td>\n",
       "      <td>Arizona Diamondbacks</td>\n",
       "      <td>Pitcher</td>\n",
       "      <td>4600.0</td>\n",
       "    </tr>\n",
       "    <tr>\n",
       "      <th>4</th>\n",
       "      <td>Adam LaRoche</td>\n",
       "      <td>Arizona Diamondbacks</td>\n",
       "      <td>First Baseman</td>\n",
       "      <td>4500.0</td>\n",
       "    </tr>\n",
       "    <tr>\n",
       "      <th>5</th>\n",
       "      <td>Chad Qualls</td>\n",
       "      <td>Arizona Diamondbacks</td>\n",
       "      <td>Pitcher</td>\n",
       "      <td>4185.0</td>\n",
       "    </tr>\n",
       "    <tr>\n",
       "      <th>6</th>\n",
       "      <td>Chris B. Young</td>\n",
       "      <td>Arizona Diamondbacks</td>\n",
       "      <td>Outfielder</td>\n",
       "      <td>3450.0</td>\n",
       "    </tr>\n",
       "  </tbody>\n",
       "</table>\n",
       "</div>"
      ],
      "text/plain": [
       "           player                  team       position  salary\n",
       "0    Brandon Webb  Arizona Diamondbacks        Pitcher  8500.0\n",
       "1     Danny Haren  Arizona Diamondbacks        Pitcher  8250.0\n",
       "2    Chris Snyder  Arizona Diamondbacks        Catcher  5250.0\n",
       "3   Edwin Jackson  Arizona Diamondbacks        Pitcher  4600.0\n",
       "4    Adam LaRoche  Arizona Diamondbacks  First Baseman  4500.0\n",
       "5     Chad Qualls  Arizona Diamondbacks        Pitcher  4185.0\n",
       "6  Chris B. Young  Arizona Diamondbacks     Outfielder  3450.0"
      ]
     },
     "execution_count": 5,
     "metadata": {},
     "output_type": "execute_result"
    }
   ],
   "source": [
    "Mlb.head(7)"
   ]
  },
  {
   "cell_type": "code",
   "execution_count": 6,
   "metadata": {
    "ExecuteTime": {
     "end_time": "2021-04-14T23:00:25.044941Z",
     "start_time": "2021-04-14T23:00:25.028952Z"
    }
   },
   "outputs": [
    {
     "data": {
      "text/plain": [
       "(100, 4)"
      ]
     },
     "execution_count": 6,
     "metadata": {},
     "output_type": "execute_result"
    }
   ],
   "source": [
    "random.seed(6)\n",
    "k = 100\n",
    "MlbSampleSimple = Mlb.sample(k)\n",
    "MlbSampleSimple.shape"
   ]
  },
  {
   "cell_type": "markdown",
   "metadata": {},
   "source": [
    "<span style=color:blue><b><em>In case of Numpy array</em></b></span>\n",
    "\n",
    "- <span style=color:blue>population = [2,5,7,8,9]</span> \n",
    "- <span style=color:blue>k = 2</span> \n",
    "- <span style=color:blue>random.sample(population, k)</span> "
   ]
  },
  {
   "cell_type": "code",
   "execution_count": 7,
   "metadata": {
    "ExecuteTime": {
     "end_time": "2021-04-14T23:00:26.437999Z",
     "start_time": "2021-04-14T23:00:26.407227Z"
    }
   },
   "outputs": [
    {
     "data": {
      "text/html": [
       "<div>\n",
       "<style scoped>\n",
       "    .dataframe tbody tr th:only-of-type {\n",
       "        vertical-align: middle;\n",
       "    }\n",
       "\n",
       "    .dataframe tbody tr th {\n",
       "        vertical-align: top;\n",
       "    }\n",
       "\n",
       "    .dataframe thead th {\n",
       "        text-align: right;\n",
       "    }\n",
       "</style>\n",
       "<table border=\"1\" class=\"dataframe\">\n",
       "  <thead>\n",
       "    <tr style=\"text-align: right;\">\n",
       "      <th></th>\n",
       "      <th>player</th>\n",
       "      <th>team</th>\n",
       "      <th>position</th>\n",
       "      <th>salary</th>\n",
       "    </tr>\n",
       "  </thead>\n",
       "  <tbody>\n",
       "    <tr>\n",
       "      <th>646</th>\n",
       "      <td>Guillermo Mota</td>\n",
       "      <td>San Francisco Giants</td>\n",
       "      <td>Pitcher</td>\n",
       "      <td>750.0</td>\n",
       "    </tr>\n",
       "    <tr>\n",
       "      <th>202</th>\n",
       "      <td>Justin Masterson</td>\n",
       "      <td>Cleveland Indians</td>\n",
       "      <td>Pitcher</td>\n",
       "      <td>427.0</td>\n",
       "    </tr>\n",
       "    <tr>\n",
       "      <th>451</th>\n",
       "      <td>Jesse Crain</td>\n",
       "      <td>Minnesota Twins</td>\n",
       "      <td>Pitcher</td>\n",
       "      <td>2000.0</td>\n",
       "    </tr>\n",
       "    <tr>\n",
       "      <th>397</th>\n",
       "      <td>Brad Ausmus</td>\n",
       "      <td>Los Angeles Dodgers</td>\n",
       "      <td>Catcher</td>\n",
       "      <td>850.0</td>\n",
       "    </tr>\n",
       "    <tr>\n",
       "      <th>430</th>\n",
       "      <td>Casey McGehee</td>\n",
       "      <td>Milwaukee Brewers</td>\n",
       "      <td>Third Baseman</td>\n",
       "      <td>427.5</td>\n",
       "    </tr>\n",
       "    <tr>\n",
       "      <th>...</th>\n",
       "      <td>...</td>\n",
       "      <td>...</td>\n",
       "      <td>...</td>\n",
       "      <td>...</td>\n",
       "    </tr>\n",
       "    <tr>\n",
       "      <th>661</th>\n",
       "      <td>Cliff Lee</td>\n",
       "      <td>Seattle Mariners</td>\n",
       "      <td>Pitcher</td>\n",
       "      <td>9000.0</td>\n",
       "    </tr>\n",
       "    <tr>\n",
       "      <th>146</th>\n",
       "      <td>J.J. Putz</td>\n",
       "      <td>Chicago White Sox</td>\n",
       "      <td>Pitcher</td>\n",
       "      <td>3000.0</td>\n",
       "    </tr>\n",
       "    <tr>\n",
       "      <th>114</th>\n",
       "      <td>Ted Lilly</td>\n",
       "      <td>Chicago Cubs</td>\n",
       "      <td>Pitcher</td>\n",
       "      <td>13000.0</td>\n",
       "    </tr>\n",
       "    <tr>\n",
       "      <th>356</th>\n",
       "      <td>Scott Kazmir</td>\n",
       "      <td>Los Angeles Angeles</td>\n",
       "      <td>Pitcher</td>\n",
       "      <td>8000.0</td>\n",
       "    </tr>\n",
       "    <tr>\n",
       "      <th>471</th>\n",
       "      <td>David Wright</td>\n",
       "      <td>New York Mets</td>\n",
       "      <td>Third Baseman</td>\n",
       "      <td>10250.0</td>\n",
       "    </tr>\n",
       "  </tbody>\n",
       "</table>\n",
       "<p>100 rows × 4 columns</p>\n",
       "</div>"
      ],
      "text/plain": [
       "               player                  team       position   salary\n",
       "646    Guillermo Mota  San Francisco Giants        Pitcher    750.0\n",
       "202  Justin Masterson     Cleveland Indians        Pitcher    427.0\n",
       "451       Jesse Crain       Minnesota Twins        Pitcher   2000.0\n",
       "397       Brad Ausmus   Los Angeles Dodgers        Catcher    850.0\n",
       "430     Casey McGehee     Milwaukee Brewers  Third Baseman    427.5\n",
       "..                ...                   ...            ...      ...\n",
       "661         Cliff Lee      Seattle Mariners        Pitcher   9000.0\n",
       "146         J.J. Putz     Chicago White Sox        Pitcher   3000.0\n",
       "114         Ted Lilly          Chicago Cubs        Pitcher  13000.0\n",
       "356      Scott Kazmir   Los Angeles Angeles        Pitcher   8000.0\n",
       "471      David Wright         New York Mets  Third Baseman  10250.0\n",
       "\n",
       "[100 rows x 4 columns]"
      ]
     },
     "execution_count": 7,
     "metadata": {},
     "output_type": "execute_result"
    }
   ],
   "source": [
    "MlbSampleSimple"
   ]
  },
  {
   "cell_type": "code",
   "execution_count": 8,
   "metadata": {
    "ExecuteTime": {
     "end_time": "2021-04-14T23:00:27.064174Z",
     "start_time": "2021-04-14T23:00:27.010203Z"
    }
   },
   "outputs": [
    {
     "data": {
      "text/html": [
       "<div>\n",
       "<style scoped>\n",
       "    .dataframe tbody tr th:only-of-type {\n",
       "        vertical-align: middle;\n",
       "    }\n",
       "\n",
       "    .dataframe tbody tr th {\n",
       "        vertical-align: top;\n",
       "    }\n",
       "\n",
       "    .dataframe thead th {\n",
       "        text-align: right;\n",
       "    }\n",
       "</style>\n",
       "<table border=\"1\" class=\"dataframe\">\n",
       "  <thead>\n",
       "    <tr style=\"text-align: right;\">\n",
       "      <th></th>\n",
       "      <th>player</th>\n",
       "      <th>team</th>\n",
       "      <th>position</th>\n",
       "      <th>salary</th>\n",
       "    </tr>\n",
       "  </thead>\n",
       "  <tbody>\n",
       "    <tr>\n",
       "      <th>3</th>\n",
       "      <td>Edwin Jackson</td>\n",
       "      <td>Arizona Diamondbacks</td>\n",
       "      <td>Pitcher</td>\n",
       "      <td>4600.0</td>\n",
       "    </tr>\n",
       "    <tr>\n",
       "      <th>21</th>\n",
       "      <td>Gerardo Parra</td>\n",
       "      <td>Arizona Diamondbacks</td>\n",
       "      <td>Outfielder</td>\n",
       "      <td>405.5</td>\n",
       "    </tr>\n",
       "    <tr>\n",
       "      <th>28</th>\n",
       "      <td>Tim Hudson</td>\n",
       "      <td>Atlanta Braves</td>\n",
       "      <td>Pitcher</td>\n",
       "      <td>9000.0</td>\n",
       "    </tr>\n",
       "    <tr>\n",
       "      <th>37</th>\n",
       "      <td>Troy Glaus</td>\n",
       "      <td>Atlanta Braves</td>\n",
       "      <td>First Baseman</td>\n",
       "      <td>1750.0</td>\n",
       "    </tr>\n",
       "    <tr>\n",
       "      <th>40</th>\n",
       "      <td>Eric Hinske</td>\n",
       "      <td>Atlanta Braves</td>\n",
       "      <td>First Baseman</td>\n",
       "      <td>1000.0</td>\n",
       "    </tr>\n",
       "    <tr>\n",
       "      <th>...</th>\n",
       "      <td>...</td>\n",
       "      <td>...</td>\n",
       "      <td>...</td>\n",
       "      <td>...</td>\n",
       "    </tr>\n",
       "    <tr>\n",
       "      <th>775</th>\n",
       "      <td>Jose A. Bautista</td>\n",
       "      <td>Toronto Blue Jays</td>\n",
       "      <td>Third Baseman</td>\n",
       "      <td>2400.0</td>\n",
       "    </tr>\n",
       "    <tr>\n",
       "      <th>780</th>\n",
       "      <td>Shawn Camp</td>\n",
       "      <td>Toronto Blue Jays</td>\n",
       "      <td>Pitcher</td>\n",
       "      <td>1150.0</td>\n",
       "    </tr>\n",
       "    <tr>\n",
       "      <th>785</th>\n",
       "      <td>Adam Lind</td>\n",
       "      <td>Toronto Blue Jays</td>\n",
       "      <td>Designated Hitter</td>\n",
       "      <td>550.0</td>\n",
       "    </tr>\n",
       "    <tr>\n",
       "      <th>797</th>\n",
       "      <td>Mike McCoy</td>\n",
       "      <td>Toronto Blue Jays</td>\n",
       "      <td>Second Baseman</td>\n",
       "      <td>400.7</td>\n",
       "    </tr>\n",
       "    <tr>\n",
       "      <th>817</th>\n",
       "      <td>Nyjer Morgan</td>\n",
       "      <td>Washington Nationals</td>\n",
       "      <td>Outfielder</td>\n",
       "      <td>426.5</td>\n",
       "    </tr>\n",
       "  </tbody>\n",
       "</table>\n",
       "<p>100 rows × 4 columns</p>\n",
       "</div>"
      ],
      "text/plain": [
       "               player                  team           position  salary\n",
       "3       Edwin Jackson  Arizona Diamondbacks            Pitcher  4600.0\n",
       "21      Gerardo Parra  Arizona Diamondbacks         Outfielder   405.5\n",
       "28         Tim Hudson        Atlanta Braves            Pitcher  9000.0\n",
       "37         Troy Glaus        Atlanta Braves      First Baseman  1750.0\n",
       "40        Eric Hinske        Atlanta Braves      First Baseman  1000.0\n",
       "..                ...                   ...                ...     ...\n",
       "775  Jose A. Bautista     Toronto Blue Jays      Third Baseman  2400.0\n",
       "780        Shawn Camp     Toronto Blue Jays            Pitcher  1150.0\n",
       "785         Adam Lind     Toronto Blue Jays  Designated Hitter   550.0\n",
       "797        Mike McCoy     Toronto Blue Jays     Second Baseman   400.7\n",
       "817      Nyjer Morgan  Washington Nationals         Outfielder   426.5\n",
       "\n",
       "[100 rows x 4 columns]"
      ]
     },
     "execution_count": 8,
     "metadata": {},
     "output_type": "execute_result"
    }
   ],
   "source": [
    "MlbSampleSimple.sort_index()"
   ]
  },
  {
   "cell_type": "markdown",
   "metadata": {},
   "source": [
    " #### <span style=color:green><ins> Mostra sistemàtica cada 6 files  </ins></span>\n",
    " https://www.statology.org/systematic-sampling-in-pandas/"
   ]
  },
  {
   "cell_type": "code",
   "execution_count": 9,
   "metadata": {
    "ExecuteTime": {
     "end_time": "2021-04-14T23:00:28.207097Z",
     "start_time": "2021-04-14T23:00:28.157122Z"
    }
   },
   "outputs": [
    {
     "data": {
      "text/html": [
       "<div>\n",
       "<style scoped>\n",
       "    .dataframe tbody tr th:only-of-type {\n",
       "        vertical-align: middle;\n",
       "    }\n",
       "\n",
       "    .dataframe tbody tr th {\n",
       "        vertical-align: top;\n",
       "    }\n",
       "\n",
       "    .dataframe thead th {\n",
       "        text-align: right;\n",
       "    }\n",
       "</style>\n",
       "<table border=\"1\" class=\"dataframe\">\n",
       "  <thead>\n",
       "    <tr style=\"text-align: right;\">\n",
       "      <th></th>\n",
       "      <th>player</th>\n",
       "      <th>team</th>\n",
       "      <th>position</th>\n",
       "      <th>salary</th>\n",
       "    </tr>\n",
       "  </thead>\n",
       "  <tbody>\n",
       "    <tr>\n",
       "      <th>0</th>\n",
       "      <td>Brandon Webb</td>\n",
       "      <td>Arizona Diamondbacks</td>\n",
       "      <td>Pitcher</td>\n",
       "      <td>8500.0</td>\n",
       "    </tr>\n",
       "    <tr>\n",
       "      <th>6</th>\n",
       "      <td>Chris B. Young</td>\n",
       "      <td>Arizona Diamondbacks</td>\n",
       "      <td>Outfielder</td>\n",
       "      <td>3450.0</td>\n",
       "    </tr>\n",
       "    <tr>\n",
       "      <th>12</th>\n",
       "      <td>Miguel Montero</td>\n",
       "      <td>Arizona Diamondbacks</td>\n",
       "      <td>Catcher</td>\n",
       "      <td>2000.0</td>\n",
       "    </tr>\n",
       "    <tr>\n",
       "      <th>18</th>\n",
       "      <td>Juan C. Gutierrez</td>\n",
       "      <td>Arizona Diamondbacks</td>\n",
       "      <td>Pitcher</td>\n",
       "      <td>411.0</td>\n",
       "    </tr>\n",
       "    <tr>\n",
       "      <th>24</th>\n",
       "      <td>Rusty Ryal</td>\n",
       "      <td>Arizona Diamondbacks</td>\n",
       "      <td>Third Baseman</td>\n",
       "      <td>401.0</td>\n",
       "    </tr>\n",
       "    <tr>\n",
       "      <th>...</th>\n",
       "      <td>...</td>\n",
       "      <td>...</td>\n",
       "      <td>...</td>\n",
       "      <td>...</td>\n",
       "    </tr>\n",
       "    <tr>\n",
       "      <th>798</th>\n",
       "      <td>Adam Dunn</td>\n",
       "      <td>Washington Nationals</td>\n",
       "      <td>First Baseman</td>\n",
       "      <td>12000.0</td>\n",
       "    </tr>\n",
       "    <tr>\n",
       "      <th>804</th>\n",
       "      <td>Ivan Rodriguez</td>\n",
       "      <td>Washington Nationals</td>\n",
       "      <td>Catcher</td>\n",
       "      <td>3000.0</td>\n",
       "    </tr>\n",
       "    <tr>\n",
       "      <th>810</th>\n",
       "      <td>Sean Burnett</td>\n",
       "      <td>Washington Nationals</td>\n",
       "      <td>Pitcher</td>\n",
       "      <td>775.0</td>\n",
       "    </tr>\n",
       "    <tr>\n",
       "      <th>816</th>\n",
       "      <td>John Lannan</td>\n",
       "      <td>Washington Nationals</td>\n",
       "      <td>Pitcher</td>\n",
       "      <td>458.0</td>\n",
       "    </tr>\n",
       "    <tr>\n",
       "      <th>822</th>\n",
       "      <td>Tyler Clippard</td>\n",
       "      <td>Washington Nationals</td>\n",
       "      <td>Pitcher</td>\n",
       "      <td>401.0</td>\n",
       "    </tr>\n",
       "  </tbody>\n",
       "</table>\n",
       "<p>138 rows × 4 columns</p>\n",
       "</div>"
      ],
      "text/plain": [
       "                player                  team       position   salary\n",
       "0         Brandon Webb  Arizona Diamondbacks        Pitcher   8500.0\n",
       "6       Chris B. Young  Arizona Diamondbacks     Outfielder   3450.0\n",
       "12      Miguel Montero  Arizona Diamondbacks        Catcher   2000.0\n",
       "18   Juan C. Gutierrez  Arizona Diamondbacks        Pitcher    411.0\n",
       "24          Rusty Ryal  Arizona Diamondbacks  Third Baseman    401.0\n",
       "..                 ...                   ...            ...      ...\n",
       "798          Adam Dunn  Washington Nationals  First Baseman  12000.0\n",
       "804     Ivan Rodriguez  Washington Nationals        Catcher   3000.0\n",
       "810       Sean Burnett  Washington Nationals        Pitcher    775.0\n",
       "816        John Lannan  Washington Nationals        Pitcher    458.0\n",
       "822     Tyler Clippard  Washington Nationals        Pitcher    401.0\n",
       "\n",
       "[138 rows x 4 columns]"
      ]
     },
     "execution_count": 9,
     "metadata": {},
     "output_type": "execute_result"
    }
   ],
   "source": [
    "sys_sample_Mlb = Mlb.iloc[::6]\n",
    "sys_sample_Mlb"
   ]
  },
  {
   "cell_type": "markdown",
   "metadata": {},
   "source": [
    "# <span style=color:darkblue>Nivell 2</span>"
   ]
  },
  {
   "cell_type": "markdown",
   "metadata": {},
   "source": [
    "<u style=color:blue>Exercici 2:</u>\n",
    "\n",
    "<span style=color:blue>Continua amb el conjunt de dades de tema esportiu i genera una mostra estratificada i una mostra utilitzant SMOTE (Synthetic Minority Oversampling Technique).</span>"
   ]
  },
  {
   "cell_type": "markdown",
   "metadata": {},
   "source": [
    " #### <span style=color:green><ins> Mostra estratificada de 100 mostres (12% de cada posición existent) </ins></span>"
   ]
  },
  {
   "cell_type": "code",
   "execution_count": 10,
   "metadata": {
    "ExecuteTime": {
     "end_time": "2021-04-14T23:00:30.480127Z",
     "start_time": "2021-04-14T23:00:30.410170Z"
    }
   },
   "outputs": [
    {
     "data": {
      "text/html": [
       "<div>\n",
       "<style scoped>\n",
       "    .dataframe tbody tr th:only-of-type {\n",
       "        vertical-align: middle;\n",
       "    }\n",
       "\n",
       "    .dataframe tbody tr th {\n",
       "        vertical-align: top;\n",
       "    }\n",
       "\n",
       "    .dataframe thead th {\n",
       "        text-align: right;\n",
       "    }\n",
       "</style>\n",
       "<table border=\"1\" class=\"dataframe\">\n",
       "  <thead>\n",
       "    <tr style=\"text-align: right;\">\n",
       "      <th></th>\n",
       "      <th></th>\n",
       "      <th>player</th>\n",
       "      <th>team</th>\n",
       "      <th>position</th>\n",
       "      <th>salary</th>\n",
       "    </tr>\n",
       "    <tr>\n",
       "      <th>position</th>\n",
       "      <th></th>\n",
       "      <th></th>\n",
       "      <th></th>\n",
       "      <th></th>\n",
       "      <th></th>\n",
       "    </tr>\n",
       "  </thead>\n",
       "  <tbody>\n",
       "    <tr>\n",
       "      <th rowspan=\"8\" valign=\"top\">Catcher</th>\n",
       "      <th>96</th>\n",
       "      <td>Jason Varitek</td>\n",
       "      <td>Boston Red Sox</td>\n",
       "      <td>Catcher</td>\n",
       "      <td>3000.0</td>\n",
       "    </tr>\n",
       "    <tr>\n",
       "      <th>598</th>\n",
       "      <td>Jason Jaramillo</td>\n",
       "      <td>Pittsburgh Pirates</td>\n",
       "      <td>Catcher</td>\n",
       "      <td>416.5</td>\n",
       "    </tr>\n",
       "    <tr>\n",
       "      <th>581</th>\n",
       "      <td>Ryan Doumit</td>\n",
       "      <td>Pittsburgh Pirates</td>\n",
       "      <td>Catcher</td>\n",
       "      <td>3650.0</td>\n",
       "    </tr>\n",
       "    <tr>\n",
       "      <th>433</th>\n",
       "      <td>George Kottaras</td>\n",
       "      <td>Milwaukee Brewers</td>\n",
       "      <td>Catcher</td>\n",
       "      <td>408.5</td>\n",
       "    </tr>\n",
       "    <tr>\n",
       "      <th>812</th>\n",
       "      <td>Jesus Flores</td>\n",
       "      <td>Washington Nationals</td>\n",
       "      <td>Catcher</td>\n",
       "      <td>750.0</td>\n",
       "    </tr>\n",
       "    <tr>\n",
       "      <th>569</th>\n",
       "      <td>Brian Schneider</td>\n",
       "      <td>Philadelphia Phillies</td>\n",
       "      <td>Catcher</td>\n",
       "      <td>1125.0</td>\n",
       "    </tr>\n",
       "    <tr>\n",
       "      <th>397</th>\n",
       "      <td>Brad Ausmus</td>\n",
       "      <td>Los Angeles Dodgers</td>\n",
       "      <td>Catcher</td>\n",
       "      <td>850.0</td>\n",
       "    </tr>\n",
       "    <tr>\n",
       "      <th>622</th>\n",
       "      <td>Nick Hundley</td>\n",
       "      <td>San Diego Padres</td>\n",
       "      <td>Catcher</td>\n",
       "      <td>415.7</td>\n",
       "    </tr>\n",
       "    <tr>\n",
       "      <th>Designated Hitter</th>\n",
       "      <th>453</th>\n",
       "      <td>Jim Thome</td>\n",
       "      <td>Minnesota Twins</td>\n",
       "      <td>Designated Hitter</td>\n",
       "      <td>1500.0</td>\n",
       "    </tr>\n",
       "    <tr>\n",
       "      <th rowspan=\"5\" valign=\"top\">First Baseman</th>\n",
       "      <th>193</th>\n",
       "      <td>Russell Branyan</td>\n",
       "      <td>Cleveland Indians</td>\n",
       "      <td>First Baseman</td>\n",
       "      <td>1500.0</td>\n",
       "    </tr>\n",
       "    <tr>\n",
       "      <th>208</th>\n",
       "      <td>Andy Marte</td>\n",
       "      <td>Cleveland Indians</td>\n",
       "      <td>First Baseman</td>\n",
       "      <td>413.4</td>\n",
       "    </tr>\n",
       "    <tr>\n",
       "      <th>642</th>\n",
       "      <td>Aubrey Huff</td>\n",
       "      <td>San Francisco Giants</td>\n",
       "      <td>First Baseman</td>\n",
       "      <td>3000.0</td>\n",
       "    </tr>\n",
       "    <tr>\n",
       "      <th>4</th>\n",
       "      <td>Adam LaRoche</td>\n",
       "      <td>Arizona Diamondbacks</td>\n",
       "      <td>First Baseman</td>\n",
       "      <td>4500.0</td>\n",
       "    </tr>\n",
       "    <tr>\n",
       "      <th>137</th>\n",
       "      <td>Paul Konerko</td>\n",
       "      <td>Chicago White Sox</td>\n",
       "      <td>First Baseman</td>\n",
       "      <td>12000.0</td>\n",
       "    </tr>\n",
       "    <tr>\n",
       "      <th>Outfielder</th>\n",
       "      <th>266</th>\n",
       "      <td>Don Kelly</td>\n",
       "      <td>Detroit Tigers</td>\n",
       "      <td>Outfielder</td>\n",
       "      <td>405.0</td>\n",
       "    </tr>\n",
       "  </tbody>\n",
       "</table>\n",
       "</div>"
      ],
      "text/plain": [
       "                                player                   team  \\\n",
       "position                                                        \n",
       "Catcher           96     Jason Varitek         Boston Red Sox   \n",
       "                  598  Jason Jaramillo     Pittsburgh Pirates   \n",
       "                  581      Ryan Doumit     Pittsburgh Pirates   \n",
       "                  433  George Kottaras      Milwaukee Brewers   \n",
       "                  812     Jesus Flores   Washington Nationals   \n",
       "                  569  Brian Schneider  Philadelphia Phillies   \n",
       "                  397      Brad Ausmus    Los Angeles Dodgers   \n",
       "                  622     Nick Hundley       San Diego Padres   \n",
       "Designated Hitter 453        Jim Thome        Minnesota Twins   \n",
       "First Baseman     193  Russell Branyan      Cleveland Indians   \n",
       "                  208       Andy Marte      Cleveland Indians   \n",
       "                  642      Aubrey Huff   San Francisco Giants   \n",
       "                  4       Adam LaRoche   Arizona Diamondbacks   \n",
       "                  137     Paul Konerko      Chicago White Sox   \n",
       "Outfielder        266        Don Kelly         Detroit Tigers   \n",
       "\n",
       "                                position   salary  \n",
       "position                                           \n",
       "Catcher           96             Catcher   3000.0  \n",
       "                  598            Catcher    416.5  \n",
       "                  581            Catcher   3650.0  \n",
       "                  433            Catcher    408.5  \n",
       "                  812            Catcher    750.0  \n",
       "                  569            Catcher   1125.0  \n",
       "                  397            Catcher    850.0  \n",
       "                  622            Catcher    415.7  \n",
       "Designated Hitter 453  Designated Hitter   1500.0  \n",
       "First Baseman     193      First Baseman   1500.0  \n",
       "                  208      First Baseman    413.4  \n",
       "                  642      First Baseman   3000.0  \n",
       "                  4        First Baseman   4500.0  \n",
       "                  137      First Baseman  12000.0  \n",
       "Outfielder        266         Outfielder    405.0  "
      ]
     },
     "execution_count": 10,
     "metadata": {},
     "output_type": "execute_result"
    }
   ],
   "source": [
    "MlbStratified = Mlb.groupby('position', group_keys = True).apply(pd.DataFrame.sample, frac=.120)\n",
    "MlbStratified.head(15)"
   ]
  },
  {
   "cell_type": "code",
   "execution_count": 11,
   "metadata": {
    "ExecuteTime": {
     "end_time": "2021-04-14T23:00:31.063060Z",
     "start_time": "2021-04-14T23:00:31.041073Z"
    }
   },
   "outputs": [
    {
     "data": {
      "text/plain": [
       "(100, 4)"
      ]
     },
     "execution_count": 11,
     "metadata": {},
     "output_type": "execute_result"
    }
   ],
   "source": [
    "MlbStratified.shape"
   ]
  },
  {
   "cell_type": "markdown",
   "metadata": {},
   "source": [
    "<span style=color:green><ins> Mostra estratificada de 100 mostres amb \"Train-Test\" </ins></span>\n",
    "\n",
    "https://www.w3schools.com/python/python_ml_train_test.asp"
   ]
  },
  {
   "cell_type": "code",
   "execution_count": 12,
   "metadata": {
    "ExecuteTime": {
     "end_time": "2021-04-14T23:00:33.669579Z",
     "start_time": "2021-04-14T23:00:32.181017Z"
    }
   },
   "outputs": [],
   "source": [
    "from sklearn.model_selection import train_test_split\n",
    "Mlb_train, Mlb_test = train_test_split(Mlb, test_size=100, stratify = Mlb['position'])"
   ]
  },
  {
   "cell_type": "code",
   "execution_count": 13,
   "metadata": {
    "ExecuteTime": {
     "end_time": "2021-04-14T23:00:33.736485Z",
     "start_time": "2021-04-14T23:00:33.674647Z"
    }
   },
   "outputs": [
    {
     "data": {
      "text/html": [
       "<div>\n",
       "<style scoped>\n",
       "    .dataframe tbody tr th:only-of-type {\n",
       "        vertical-align: middle;\n",
       "    }\n",
       "\n",
       "    .dataframe tbody tr th {\n",
       "        vertical-align: top;\n",
       "    }\n",
       "\n",
       "    .dataframe thead th {\n",
       "        text-align: right;\n",
       "    }\n",
       "</style>\n",
       "<table border=\"1\" class=\"dataframe\">\n",
       "  <thead>\n",
       "    <tr style=\"text-align: right;\">\n",
       "      <th></th>\n",
       "      <th>player</th>\n",
       "      <th>team</th>\n",
       "      <th>position</th>\n",
       "      <th>salary</th>\n",
       "    </tr>\n",
       "  </thead>\n",
       "  <tbody>\n",
       "    <tr>\n",
       "      <th>7</th>\n",
       "      <td>Stephen Drew</td>\n",
       "      <td>Arizona Diamondbacks</td>\n",
       "      <td>Shortstop</td>\n",
       "      <td>3400.000</td>\n",
       "    </tr>\n",
       "    <tr>\n",
       "      <th>16</th>\n",
       "      <td>Justin Upton</td>\n",
       "      <td>Arizona Diamondbacks</td>\n",
       "      <td>Outfielder</td>\n",
       "      <td>708.333</td>\n",
       "    </tr>\n",
       "    <tr>\n",
       "      <th>17</th>\n",
       "      <td>Rodrigo Lopez</td>\n",
       "      <td>Arizona Diamondbacks</td>\n",
       "      <td>Pitcher</td>\n",
       "      <td>650.000</td>\n",
       "    </tr>\n",
       "    <tr>\n",
       "      <th>24</th>\n",
       "      <td>Rusty Ryal</td>\n",
       "      <td>Arizona Diamondbacks</td>\n",
       "      <td>Third Baseman</td>\n",
       "      <td>401.000</td>\n",
       "    </tr>\n",
       "    <tr>\n",
       "      <th>46</th>\n",
       "      <td>Jesse Chavez</td>\n",
       "      <td>Atlanta Braves</td>\n",
       "      <td>Pitcher</td>\n",
       "      <td>415.000</td>\n",
       "    </tr>\n",
       "    <tr>\n",
       "      <th>...</th>\n",
       "      <td>...</td>\n",
       "      <td>...</td>\n",
       "      <td>...</td>\n",
       "      <td>...</td>\n",
       "    </tr>\n",
       "    <tr>\n",
       "      <th>808</th>\n",
       "      <td>Adam Kennedy</td>\n",
       "      <td>Washington Nationals</td>\n",
       "      <td>Second Baseman</td>\n",
       "      <td>1250.000</td>\n",
       "    </tr>\n",
       "    <tr>\n",
       "      <th>809</th>\n",
       "      <td>Miguel Batista</td>\n",
       "      <td>Washington Nationals</td>\n",
       "      <td>Pitcher</td>\n",
       "      <td>1000.000</td>\n",
       "    </tr>\n",
       "    <tr>\n",
       "      <th>819</th>\n",
       "      <td>Garrett Mock</td>\n",
       "      <td>Washington Nationals</td>\n",
       "      <td>Pitcher</td>\n",
       "      <td>411.000</td>\n",
       "    </tr>\n",
       "    <tr>\n",
       "      <th>823</th>\n",
       "      <td>Jordan Zimmerman</td>\n",
       "      <td>Washington Nationals</td>\n",
       "      <td>Pitcher</td>\n",
       "      <td>401.000</td>\n",
       "    </tr>\n",
       "    <tr>\n",
       "      <th>825</th>\n",
       "      <td>Ross Detwiler</td>\n",
       "      <td>Washington Nationals</td>\n",
       "      <td>Pitcher</td>\n",
       "      <td>400.000</td>\n",
       "    </tr>\n",
       "  </tbody>\n",
       "</table>\n",
       "<p>100 rows × 4 columns</p>\n",
       "</div>"
      ],
      "text/plain": [
       "               player                  team        position    salary\n",
       "7        Stephen Drew  Arizona Diamondbacks       Shortstop  3400.000\n",
       "16       Justin Upton  Arizona Diamondbacks      Outfielder   708.333\n",
       "17      Rodrigo Lopez  Arizona Diamondbacks         Pitcher   650.000\n",
       "24         Rusty Ryal  Arizona Diamondbacks   Third Baseman   401.000\n",
       "46       Jesse Chavez        Atlanta Braves         Pitcher   415.000\n",
       "..                ...                   ...             ...       ...\n",
       "808      Adam Kennedy  Washington Nationals  Second Baseman  1250.000\n",
       "809    Miguel Batista  Washington Nationals         Pitcher  1000.000\n",
       "819      Garrett Mock  Washington Nationals         Pitcher   411.000\n",
       "823  Jordan Zimmerman  Washington Nationals         Pitcher   401.000\n",
       "825     Ross Detwiler  Washington Nationals         Pitcher   400.000\n",
       "\n",
       "[100 rows x 4 columns]"
      ]
     },
     "execution_count": 13,
     "metadata": {},
     "output_type": "execute_result"
    }
   ],
   "source": [
    "Mlb_test.sort_index()"
   ]
  },
  {
   "cell_type": "markdown",
   "metadata": {},
   "source": [
    " #### <span style=color:green><ins> Mostra SMOTE (Synthetic Minority Oversampling Technique)  </ins></span>\n",
    " https://machinelearningmastery.com/smote-oversampling-for-imbalanced-classification/"
   ]
  },
  {
   "cell_type": "markdown",
   "metadata": {},
   "source": [
    "https://towardsdatascience.com/how-to-effortlessly-handle-class-imbalance-with-python-and-smote-9b715ca8e5a7\n",
    "\n",
    "https://towardsdatascience.com/5-smote-techniques-for-oversampling-your-imbalance-data-b8155bdbe2b5"
   ]
  },
  {
   "cell_type": "code",
   "execution_count": 14,
   "metadata": {
    "ExecuteTime": {
     "end_time": "2021-04-14T23:00:34.731022Z",
     "start_time": "2021-04-14T23:00:34.702041Z"
    }
   },
   "outputs": [
    {
     "data": {
      "text/html": [
       "<div>\n",
       "<style scoped>\n",
       "    .dataframe tbody tr th:only-of-type {\n",
       "        vertical-align: middle;\n",
       "    }\n",
       "\n",
       "    .dataframe tbody tr th {\n",
       "        vertical-align: top;\n",
       "    }\n",
       "\n",
       "    .dataframe thead th {\n",
       "        text-align: right;\n",
       "    }\n",
       "</style>\n",
       "<table border=\"1\" class=\"dataframe\">\n",
       "  <thead>\n",
       "    <tr style=\"text-align: right;\">\n",
       "      <th></th>\n",
       "      <th>player</th>\n",
       "      <th>salary</th>\n",
       "    </tr>\n",
       "    <tr>\n",
       "      <th>position</th>\n",
       "      <th></th>\n",
       "      <th></th>\n",
       "    </tr>\n",
       "  </thead>\n",
       "  <tbody>\n",
       "    <tr>\n",
       "      <th>Catcher</th>\n",
       "      <td>67</td>\n",
       "      <td>67</td>\n",
       "    </tr>\n",
       "    <tr>\n",
       "      <th>Designated Hitter</th>\n",
       "      <td>7</td>\n",
       "      <td>7</td>\n",
       "    </tr>\n",
       "    <tr>\n",
       "      <th>First Baseman</th>\n",
       "      <td>42</td>\n",
       "      <td>42</td>\n",
       "    </tr>\n",
       "    <tr>\n",
       "      <th>Infielder</th>\n",
       "      <td>4</td>\n",
       "      <td>4</td>\n",
       "    </tr>\n",
       "    <tr>\n",
       "      <th>Outfielder</th>\n",
       "      <td>148</td>\n",
       "      <td>148</td>\n",
       "    </tr>\n",
       "    <tr>\n",
       "      <th>Pitcher</th>\n",
       "      <td>410</td>\n",
       "      <td>410</td>\n",
       "    </tr>\n",
       "    <tr>\n",
       "      <th>Second Baseman</th>\n",
       "      <td>48</td>\n",
       "      <td>48</td>\n",
       "    </tr>\n",
       "    <tr>\n",
       "      <th>Shortstop</th>\n",
       "      <td>56</td>\n",
       "      <td>56</td>\n",
       "    </tr>\n",
       "    <tr>\n",
       "      <th>Third Baseman</th>\n",
       "      <td>46</td>\n",
       "      <td>46</td>\n",
       "    </tr>\n",
       "  </tbody>\n",
       "</table>\n",
       "</div>"
      ],
      "text/plain": [
       "                   player  salary\n",
       "position                         \n",
       "Catcher                67      67\n",
       "Designated Hitter       7       7\n",
       "First Baseman          42      42\n",
       "Infielder               4       4\n",
       "Outfielder            148     148\n",
       "Pitcher               410     410\n",
       "Second Baseman         48      48\n",
       "Shortstop              56      56\n",
       "Third Baseman          46      46"
      ]
     },
     "execution_count": 14,
     "metadata": {},
     "output_type": "execute_result"
    }
   ],
   "source": [
    "### count positions\n",
    "Mlb.set_index([\"position\",\"team\"]).count(level=\"position\")"
   ]
  },
  {
   "cell_type": "markdown",
   "metadata": {},
   "source": [
    "#### <span style=color:green><ins> Designated Hitler and Infielder categories have very few samples....Let's oversample  </ins></span>"
   ]
  },
  {
   "cell_type": "markdown",
   "metadata": {},
   "source": [
    "<span style=color:green><ins> Data preparation to get read of textual data  </ins></span>"
   ]
  },
  {
   "cell_type": "code",
   "execution_count": 15,
   "metadata": {
    "ExecuteTime": {
     "end_time": "2021-04-14T23:00:36.707998Z",
     "start_time": "2021-04-14T23:00:36.663028Z"
    },
    "scrolled": false
   },
   "outputs": [
    {
     "data": {
      "text/html": [
       "<div>\n",
       "<style scoped>\n",
       "    .dataframe tbody tr th:only-of-type {\n",
       "        vertical-align: middle;\n",
       "    }\n",
       "\n",
       "    .dataframe tbody tr th {\n",
       "        vertical-align: top;\n",
       "    }\n",
       "\n",
       "    .dataframe thead th {\n",
       "        text-align: right;\n",
       "    }\n",
       "</style>\n",
       "<table border=\"1\" class=\"dataframe\">\n",
       "  <thead>\n",
       "    <tr style=\"text-align: right;\">\n",
       "      <th></th>\n",
       "      <th>salary</th>\n",
       "      <th>randNumCol</th>\n",
       "      <th>position_Designated Hitter</th>\n",
       "      <th>position_First Baseman</th>\n",
       "      <th>position_Infielder</th>\n",
       "      <th>position_Outfielder</th>\n",
       "      <th>position_Pitcher</th>\n",
       "      <th>position_Second Baseman</th>\n",
       "      <th>position_Shortstop</th>\n",
       "      <th>position_Third Baseman</th>\n",
       "    </tr>\n",
       "  </thead>\n",
       "  <tbody>\n",
       "    <tr>\n",
       "      <th>0</th>\n",
       "      <td>8500.0</td>\n",
       "      <td>4627</td>\n",
       "      <td>0</td>\n",
       "      <td>0</td>\n",
       "      <td>0</td>\n",
       "      <td>0</td>\n",
       "      <td>1</td>\n",
       "      <td>0</td>\n",
       "      <td>0</td>\n",
       "      <td>0</td>\n",
       "    </tr>\n",
       "    <tr>\n",
       "      <th>1</th>\n",
       "      <td>8250.0</td>\n",
       "      <td>1068</td>\n",
       "      <td>0</td>\n",
       "      <td>0</td>\n",
       "      <td>0</td>\n",
       "      <td>0</td>\n",
       "      <td>1</td>\n",
       "      <td>0</td>\n",
       "      <td>0</td>\n",
       "      <td>0</td>\n",
       "    </tr>\n",
       "    <tr>\n",
       "      <th>2</th>\n",
       "      <td>5250.0</td>\n",
       "      <td>37</td>\n",
       "      <td>0</td>\n",
       "      <td>0</td>\n",
       "      <td>0</td>\n",
       "      <td>0</td>\n",
       "      <td>0</td>\n",
       "      <td>0</td>\n",
       "      <td>0</td>\n",
       "      <td>0</td>\n",
       "    </tr>\n",
       "    <tr>\n",
       "      <th>3</th>\n",
       "      <td>4600.0</td>\n",
       "      <td>5704</td>\n",
       "      <td>0</td>\n",
       "      <td>0</td>\n",
       "      <td>0</td>\n",
       "      <td>0</td>\n",
       "      <td>1</td>\n",
       "      <td>0</td>\n",
       "      <td>0</td>\n",
       "      <td>0</td>\n",
       "    </tr>\n",
       "    <tr>\n",
       "      <th>4</th>\n",
       "      <td>4500.0</td>\n",
       "      <td>9098</td>\n",
       "      <td>0</td>\n",
       "      <td>1</td>\n",
       "      <td>0</td>\n",
       "      <td>0</td>\n",
       "      <td>0</td>\n",
       "      <td>0</td>\n",
       "      <td>0</td>\n",
       "      <td>0</td>\n",
       "    </tr>\n",
       "  </tbody>\n",
       "</table>\n",
       "</div>"
      ],
      "text/plain": [
       "   salary  randNumCol  position_Designated Hitter  position_First Baseman  \\\n",
       "0  8500.0        4627                           0                       0   \n",
       "1  8250.0        1068                           0                       0   \n",
       "2  5250.0          37                           0                       0   \n",
       "3  4600.0        5704                           0                       0   \n",
       "4  4500.0        9098                           0                       1   \n",
       "\n",
       "   position_Infielder  position_Outfielder  position_Pitcher  \\\n",
       "0                   0                    0                 1   \n",
       "1                   0                    0                 1   \n",
       "2                   0                    0                 0   \n",
       "3                   0                    0                 1   \n",
       "4                   0                    0                 0   \n",
       "\n",
       "   position_Second Baseman  position_Shortstop  position_Third Baseman  \n",
       "0                        0                   0                       0  \n",
       "1                        0                   0                       0  \n",
       "2                        0                   0                       0  \n",
       "3                        0                   0                       0  \n",
       "4                        0                   0                       0  "
      ]
     },
     "execution_count": 15,
     "metadata": {},
     "output_type": "execute_result"
    }
   ],
   "source": [
    "# Remap to integers: N/A since no variables with 2 outputs\n",
    "\n",
    "# Create dummy variables\n",
    "dummy_position_type = pd.get_dummies(Mlb['position'], prefix='position', drop_first=True)\n",
    "\n",
    "# Drop unnecessary columns\n",
    "to_drop = ['player', 'team', 'position']\n",
    "Mlb.drop(to_drop, axis=1, inplace=True)\n",
    "\n",
    "# Add new random column\n",
    "Mlb['randNumCol'] = np.random.randint(0,10000, size=len(Mlb))\n",
    "\n",
    "# Merge into a single data frame\n",
    "merged = pd.concat([Mlb, dummy_position_type], axis=1)\n",
    "merged.head()"
   ]
  },
  {
   "cell_type": "code",
   "execution_count": 16,
   "metadata": {
    "ExecuteTime": {
     "end_time": "2021-04-14T23:00:37.423027Z",
     "start_time": "2021-04-14T23:00:37.400021Z"
    }
   },
   "outputs": [
    {
     "data": {
      "text/plain": [
       "(828, 10)"
      ]
     },
     "execution_count": 16,
     "metadata": {},
     "output_type": "execute_result"
    }
   ],
   "source": [
    "merged.shape"
   ]
  },
  {
   "cell_type": "code",
   "execution_count": 22,
   "metadata": {
    "ExecuteTime": {
     "end_time": "2021-04-14T23:01:45.342837Z",
     "start_time": "2021-04-14T23:01:45.319829Z"
    }
   },
   "outputs": [
    {
     "data": {
      "text/html": [
       "<div>\n",
       "<style scoped>\n",
       "    .dataframe tbody tr th:only-of-type {\n",
       "        vertical-align: middle;\n",
       "    }\n",
       "\n",
       "    .dataframe tbody tr th {\n",
       "        vertical-align: top;\n",
       "    }\n",
       "\n",
       "    .dataframe thead th {\n",
       "        text-align: right;\n",
       "    }\n",
       "</style>\n",
       "<table border=\"1\" class=\"dataframe\">\n",
       "  <thead>\n",
       "    <tr style=\"text-align: right;\">\n",
       "      <th></th>\n",
       "      <th>salary</th>\n",
       "      <th>randNumCol</th>\n",
       "      <th>position_Shortstop</th>\n",
       "    </tr>\n",
       "  </thead>\n",
       "  <tbody>\n",
       "    <tr>\n",
       "      <th>0</th>\n",
       "      <td>8500.0</td>\n",
       "      <td>4627</td>\n",
       "      <td>0</td>\n",
       "    </tr>\n",
       "    <tr>\n",
       "      <th>1</th>\n",
       "      <td>8250.0</td>\n",
       "      <td>1068</td>\n",
       "      <td>0</td>\n",
       "    </tr>\n",
       "    <tr>\n",
       "      <th>2</th>\n",
       "      <td>5250.0</td>\n",
       "      <td>37</td>\n",
       "      <td>0</td>\n",
       "    </tr>\n",
       "    <tr>\n",
       "      <th>3</th>\n",
       "      <td>4600.0</td>\n",
       "      <td>5704</td>\n",
       "      <td>0</td>\n",
       "    </tr>\n",
       "    <tr>\n",
       "      <th>4</th>\n",
       "      <td>4500.0</td>\n",
       "      <td>9098</td>\n",
       "      <td>0</td>\n",
       "    </tr>\n",
       "  </tbody>\n",
       "</table>\n",
       "</div>"
      ],
      "text/plain": [
       "   salary  randNumCol  position_Shortstop\n",
       "0  8500.0        4627                   0\n",
       "1  8250.0        1068                   0\n",
       "2  5250.0          37                   0\n",
       "3  4600.0        5704                   0\n",
       "4  4500.0        9098                   0"
      ]
     },
     "execution_count": 22,
     "metadata": {},
     "output_type": "execute_result"
    }
   ],
   "source": [
    "merged_r = merged[['salary', 'randNumCol','position_Shortstop']]\n",
    "merged_r.head()"
   ]
  },
  {
   "cell_type": "code",
   "execution_count": 23,
   "metadata": {
    "ExecuteTime": {
     "end_time": "2021-04-14T23:01:48.224986Z",
     "start_time": "2021-04-14T23:01:47.522868Z"
    }
   },
   "outputs": [
    {
     "data": {
      "text/plain": [
       "<AxesSubplot:xlabel='salary', ylabel='randNumCol'>"
      ]
     },
     "execution_count": 23,
     "metadata": {},
     "output_type": "execute_result"
    },
    {
     "data": {
      "image/png": "[encoded data removed]",
      "text/plain": [
       "<Figure size 432x288 with 1 Axes>"
      ]
     },
     "metadata": {
      "needs_background": "light"
     },
     "output_type": "display_data"
    }
   ],
   "source": [
    "sns.scatterplot(data = merged_r, x ='salary', y = 'randNumCol', hue = 'position_Shortstop')"
   ]
  },
  {
   "cell_type": "markdown",
   "metadata": {
    "ExecuteTime": {
     "end_time": "2021-04-14T22:48:55.652173Z",
     "start_time": "2021-04-14T22:48:55.632164Z"
    }
   },
   "source": [
    "<span style=color:green><ins> Smote  </ins></span>"
   ]
  },
  {
   "cell_type": "code",
   "execution_count": 24,
   "metadata": {
    "ExecuteTime": {
     "end_time": "2021-04-14T23:01:58.055947Z",
     "start_time": "2021-04-14T23:01:57.903033Z"
    }
   },
   "outputs": [
    {
     "ename": "KeyError",
     "evalue": "'position_Shortstop'",
     "output_type": "error",
     "traceback": [
      "\u001b[1;31m---------------------------------------------------------------------------\u001b[0m",
      "\u001b[1;31mKeyError\u001b[0m                                  Traceback (most recent call last)",
      "\u001b[1;32m~\\anaconda3\\lib\\site-packages\\pandas\\core\\indexes\\base.py\u001b[0m in \u001b[0;36mget_loc\u001b[1;34m(self, key, method, tolerance)\u001b[0m\n\u001b[0;32m   2894\u001b[0m             \u001b[1;32mtry\u001b[0m\u001b[1;33m:\u001b[0m\u001b[1;33m\u001b[0m\u001b[1;33m\u001b[0m\u001b[0m\n\u001b[1;32m-> 2895\u001b[1;33m                 \u001b[1;32mreturn\u001b[0m \u001b[0mself\u001b[0m\u001b[1;33m.\u001b[0m\u001b[0m_engine\u001b[0m\u001b[1;33m.\u001b[0m\u001b[0mget_loc\u001b[0m\u001b[1;33m(\u001b[0m\u001b[0mcasted_key\u001b[0m\u001b[1;33m)\u001b[0m\u001b[1;33m\u001b[0m\u001b[1;33m\u001b[0m\u001b[0m\n\u001b[0m\u001b[0;32m   2896\u001b[0m             \u001b[1;32mexcept\u001b[0m \u001b[0mKeyError\u001b[0m \u001b[1;32mas\u001b[0m \u001b[0merr\u001b[0m\u001b[1;33m:\u001b[0m\u001b[1;33m\u001b[0m\u001b[1;33m\u001b[0m\u001b[0m\n",
      "\u001b[1;32mpandas\\_libs\\index.pyx\u001b[0m in \u001b[0;36mpandas._libs.index.IndexEngine.get_loc\u001b[1;34m()\u001b[0m\n",
      "\u001b[1;32mpandas\\_libs\\index.pyx\u001b[0m in \u001b[0;36mpandas._libs.index.IndexEngine.get_loc\u001b[1;34m()\u001b[0m\n",
      "\u001b[1;32mpandas\\_libs\\hashtable_class_helper.pxi\u001b[0m in \u001b[0;36mpandas._libs.hashtable.PyObjectHashTable.get_item\u001b[1;34m()\u001b[0m\n",
      "\u001b[1;32mpandas\\_libs\\hashtable_class_helper.pxi\u001b[0m in \u001b[0;36mpandas._libs.hashtable.PyObjectHashTable.get_item\u001b[1;34m()\u001b[0m\n",
      "\u001b[1;31mKeyError\u001b[0m: 'position_Shortstop'",
      "\nThe above exception was the direct cause of the following exception:\n",
      "\u001b[1;31mKeyError\u001b[0m                                  Traceback (most recent call last)",
      "\u001b[1;32m<ipython-input-24-0873cab3535e>\u001b[0m in \u001b[0;36m<module>\u001b[1;34m\u001b[0m\n\u001b[0;32m      9\u001b[0m \u001b[1;31m#Creating a new Oversampling Data Frame\u001b[0m\u001b[1;33m\u001b[0m\u001b[1;33m\u001b[0m\u001b[1;33m\u001b[0m\u001b[0m\n\u001b[0;32m     10\u001b[0m \u001b[0mdf_oversampler\u001b[0m \u001b[1;33m=\u001b[0m \u001b[0mpd\u001b[0m\u001b[1;33m.\u001b[0m\u001b[0mDataFrame\u001b[0m\u001b[1;33m(\u001b[0m\u001b[0mX\u001b[0m\u001b[1;33m,\u001b[0m \u001b[0mcolumns\u001b[0m \u001b[1;33m=\u001b[0m \u001b[1;33m[\u001b[0m\u001b[1;34m'salary'\u001b[0m\u001b[1;33m,\u001b[0m \u001b[1;34m'randNumCol'\u001b[0m\u001b[1;33m]\u001b[0m\u001b[1;33m)\u001b[0m\u001b[1;33m\u001b[0m\u001b[1;33m\u001b[0m\u001b[0m\n\u001b[1;32m---> 11\u001b[1;33m \u001b[0mdf_oversampler\u001b[0m\u001b[1;33m[\u001b[0m\u001b[1;34m'position_Shortstop'\u001b[0m\u001b[1;33m]\u001b[0m\u001b[1;33m\u001b[0m\u001b[1;33m\u001b[0m\u001b[0m\n\u001b[0m",
      "\u001b[1;32m~\\anaconda3\\lib\\site-packages\\pandas\\core\\frame.py\u001b[0m in \u001b[0;36m__getitem__\u001b[1;34m(self, key)\u001b[0m\n\u001b[0;32m   2900\u001b[0m             \u001b[1;32mif\u001b[0m \u001b[0mself\u001b[0m\u001b[1;33m.\u001b[0m\u001b[0mcolumns\u001b[0m\u001b[1;33m.\u001b[0m\u001b[0mnlevels\u001b[0m \u001b[1;33m>\u001b[0m \u001b[1;36m1\u001b[0m\u001b[1;33m:\u001b[0m\u001b[1;33m\u001b[0m\u001b[1;33m\u001b[0m\u001b[0m\n\u001b[0;32m   2901\u001b[0m                 \u001b[1;32mreturn\u001b[0m \u001b[0mself\u001b[0m\u001b[1;33m.\u001b[0m\u001b[0m_getitem_multilevel\u001b[0m\u001b[1;33m(\u001b[0m\u001b[0mkey\u001b[0m\u001b[1;33m)\u001b[0m\u001b[1;33m\u001b[0m\u001b[1;33m\u001b[0m\u001b[0m\n\u001b[1;32m-> 2902\u001b[1;33m             \u001b[0mindexer\u001b[0m \u001b[1;33m=\u001b[0m \u001b[0mself\u001b[0m\u001b[1;33m.\u001b[0m\u001b[0mcolumns\u001b[0m\u001b[1;33m.\u001b[0m\u001b[0mget_loc\u001b[0m\u001b[1;33m(\u001b[0m\u001b[0mkey\u001b[0m\u001b[1;33m)\u001b[0m\u001b[1;33m\u001b[0m\u001b[1;33m\u001b[0m\u001b[0m\n\u001b[0m\u001b[0;32m   2903\u001b[0m             \u001b[1;32mif\u001b[0m \u001b[0mis_integer\u001b[0m\u001b[1;33m(\u001b[0m\u001b[0mindexer\u001b[0m\u001b[1;33m)\u001b[0m\u001b[1;33m:\u001b[0m\u001b[1;33m\u001b[0m\u001b[1;33m\u001b[0m\u001b[0m\n\u001b[0;32m   2904\u001b[0m                 \u001b[0mindexer\u001b[0m \u001b[1;33m=\u001b[0m \u001b[1;33m[\u001b[0m\u001b[0mindexer\u001b[0m\u001b[1;33m]\u001b[0m\u001b[1;33m\u001b[0m\u001b[1;33m\u001b[0m\u001b[0m\n",
      "\u001b[1;32m~\\anaconda3\\lib\\site-packages\\pandas\\core\\indexes\\base.py\u001b[0m in \u001b[0;36mget_loc\u001b[1;34m(self, key, method, tolerance)\u001b[0m\n\u001b[0;32m   2895\u001b[0m                 \u001b[1;32mreturn\u001b[0m \u001b[0mself\u001b[0m\u001b[1;33m.\u001b[0m\u001b[0m_engine\u001b[0m\u001b[1;33m.\u001b[0m\u001b[0mget_loc\u001b[0m\u001b[1;33m(\u001b[0m\u001b[0mcasted_key\u001b[0m\u001b[1;33m)\u001b[0m\u001b[1;33m\u001b[0m\u001b[1;33m\u001b[0m\u001b[0m\n\u001b[0;32m   2896\u001b[0m             \u001b[1;32mexcept\u001b[0m \u001b[0mKeyError\u001b[0m \u001b[1;32mas\u001b[0m \u001b[0merr\u001b[0m\u001b[1;33m:\u001b[0m\u001b[1;33m\u001b[0m\u001b[1;33m\u001b[0m\u001b[0m\n\u001b[1;32m-> 2897\u001b[1;33m                 \u001b[1;32mraise\u001b[0m \u001b[0mKeyError\u001b[0m\u001b[1;33m(\u001b[0m\u001b[0mkey\u001b[0m\u001b[1;33m)\u001b[0m \u001b[1;32mfrom\u001b[0m \u001b[0merr\u001b[0m\u001b[1;33m\u001b[0m\u001b[1;33m\u001b[0m\u001b[0m\n\u001b[0m\u001b[0;32m   2898\u001b[0m \u001b[1;33m\u001b[0m\u001b[0m\n\u001b[0;32m   2899\u001b[0m         \u001b[1;32mif\u001b[0m \u001b[0mtolerance\u001b[0m \u001b[1;32mis\u001b[0m \u001b[1;32mnot\u001b[0m \u001b[1;32mNone\u001b[0m\u001b[1;33m:\u001b[0m\u001b[1;33m\u001b[0m\u001b[1;33m\u001b[0m\u001b[0m\n",
      "\u001b[1;31mKeyError\u001b[0m: 'position_Shortstop'"
     ]
    }
   ],
   "source": [
    "#Importing SMOTE\n",
    "from imblearn.over_sampling import SMOTE\n",
    "\n",
    "#Oversampling the data\n",
    "smote = SMOTE(random_state = 101)\n",
    "\n",
    "X, y = smote.fit_resample(merged[['salary', 'randNumCol']], merged['position_Shortstop'])\n",
    "\n",
    "#Creating a new Oversampling Data Frame\n",
    "df_oversampler = pd.DataFrame(X, columns = ['salary', 'randNumCol'])\n",
    "df_oversampler['position_Shortstop']"
   ]
  },
  {
   "cell_type": "markdown",
   "metadata": {},
   "source": [
    "# <span style=color:darkblue>Nivell 3</span>"
   ]
  },
  {
   "cell_type": "markdown",
   "metadata": {},
   "source": [
    "<u style=color:blue>Exercici 3:</u>\n",
    "\n",
    "<span style=color:blue>Continua amb el conjunt de dades de tema esportiu i genera una mostra utilitzant el mètode Reservoir sampling</span>"
   ]
  },
  {
   "cell_type": "markdown",
   "metadata": {},
   "source": [
    "https://towardsdatascience.com/the-5-sampling-algorithms-every-data-scientist-need-to-know-43c7bc11d17c"
   ]
  },
  {
   "cell_type": "code",
   "execution_count": 25,
   "metadata": {
    "ExecuteTime": {
     "end_time": "2021-04-14T23:02:16.672927Z",
     "start_time": "2021-04-14T23:02:16.642948Z"
    }
   },
   "outputs": [
    {
     "data": {
      "text/html": [
       "<div>\n",
       "<style scoped>\n",
       "    .dataframe tbody tr th:only-of-type {\n",
       "        vertical-align: middle;\n",
       "    }\n",
       "\n",
       "    .dataframe tbody tr th {\n",
       "        vertical-align: top;\n",
       "    }\n",
       "\n",
       "    .dataframe thead th {\n",
       "        text-align: right;\n",
       "    }\n",
       "</style>\n",
       "<table border=\"1\" class=\"dataframe\">\n",
       "  <thead>\n",
       "    <tr style=\"text-align: right;\">\n",
       "      <th></th>\n",
       "      <th>player</th>\n",
       "      <th>team</th>\n",
       "      <th>position</th>\n",
       "      <th>salary</th>\n",
       "    </tr>\n",
       "  </thead>\n",
       "  <tbody>\n",
       "    <tr>\n",
       "      <th>0</th>\n",
       "      <td>Brandon Webb</td>\n",
       "      <td>Arizona Diamondbacks</td>\n",
       "      <td>Pitcher</td>\n",
       "      <td>8500.0</td>\n",
       "    </tr>\n",
       "    <tr>\n",
       "      <th>1</th>\n",
       "      <td>Danny Haren</td>\n",
       "      <td>Arizona Diamondbacks</td>\n",
       "      <td>Pitcher</td>\n",
       "      <td>8250.0</td>\n",
       "    </tr>\n",
       "    <tr>\n",
       "      <th>2</th>\n",
       "      <td>Chris Snyder</td>\n",
       "      <td>Arizona Diamondbacks</td>\n",
       "      <td>Catcher</td>\n",
       "      <td>5250.0</td>\n",
       "    </tr>\n",
       "    <tr>\n",
       "      <th>3</th>\n",
       "      <td>Edwin Jackson</td>\n",
       "      <td>Arizona Diamondbacks</td>\n",
       "      <td>Pitcher</td>\n",
       "      <td>4600.0</td>\n",
       "    </tr>\n",
       "    <tr>\n",
       "      <th>4</th>\n",
       "      <td>Adam LaRoche</td>\n",
       "      <td>Arizona Diamondbacks</td>\n",
       "      <td>First Baseman</td>\n",
       "      <td>4500.0</td>\n",
       "    </tr>\n",
       "  </tbody>\n",
       "</table>\n",
       "</div>"
      ],
      "text/plain": [
       "          player                  team       position  salary\n",
       "0   Brandon Webb  Arizona Diamondbacks        Pitcher  8500.0\n",
       "1    Danny Haren  Arizona Diamondbacks        Pitcher  8250.0\n",
       "2   Chris Snyder  Arizona Diamondbacks        Catcher  5250.0\n",
       "3  Edwin Jackson  Arizona Diamondbacks        Pitcher  4600.0\n",
       "4   Adam LaRoche  Arizona Diamondbacks  First Baseman  4500.0"
      ]
     },
     "execution_count": 25,
     "metadata": {},
     "output_type": "execute_result"
    }
   ],
   "source": [
    "Mlb = pd.read_csv('MLB.txt', sep='\\t', encoding='utf-8')\n",
    "Mlb.head()"
   ]
  },
  {
   "cell_type": "markdown",
   "metadata": {},
   "source": [
    "<span style=color:green><ins> Dataframe to array  </ins></span>"
   ]
  },
  {
   "cell_type": "code",
   "execution_count": 27,
   "metadata": {
    "ExecuteTime": {
     "end_time": "2021-04-14T23:03:32.995848Z",
     "start_time": "2021-04-14T23:03:32.976855Z"
    }
   },
   "outputs": [],
   "source": [
    "stream = Mlb.to_numpy()"
   ]
  },
  {
   "cell_type": "markdown",
   "metadata": {},
   "source": [
    "<span style=color:green><ins> Reservoir sampling  </ins></span>"
   ]
  },
  {
   "cell_type": "code",
   "execution_count": 38,
   "metadata": {
    "ExecuteTime": {
     "end_time": "2021-04-14T23:05:21.520155Z",
     "start_time": "2021-04-14T23:05:21.508161Z"
    }
   },
   "outputs": [
    {
     "name": "stdout",
     "output_type": "stream",
     "text": [
      "[array(['Jason Giambi', 'Colorado Rockies', 'First Baseman', 1750.0],\n",
      "      dtype=object), array(['Joe Mauer', 'Minnesota Twins', 'Catcher', 12500.0], dtype=object), array(['Brad Penny', 'St. Louis Cardinals', 'Pitcher', 7500.0],\n",
      "      dtype=object)]\n"
     ]
    }
   ],
   "source": [
    "# Doing Reservoir Sampling from the stream\n",
    "k=3\n",
    "reservoir = []\n",
    "for i, element in enumerate(stream):\n",
    "    if i+1<= k:\n",
    "        reservoir.append(element)\n",
    "    else:\n",
    "        probability = k/(i+1)\n",
    "        if random.random() < probability:\n",
    "            # Select item in stream and remove one of the k items already selected\n",
    "             reservoir[random.choice(range(0,k))] = element\n",
    "print(reservoir)"
   ]
  },
  {
   "cell_type": "code",
   "execution_count": 39,
   "metadata": {
    "ExecuteTime": {
     "end_time": "2021-04-14T23:05:21.989523Z",
     "start_time": "2021-04-14T23:05:21.953543Z"
    }
   },
   "outputs": [
    {
     "data": {
      "text/html": [
       "<div>\n",
       "<style scoped>\n",
       "    .dataframe tbody tr th:only-of-type {\n",
       "        vertical-align: middle;\n",
       "    }\n",
       "\n",
       "    .dataframe tbody tr th {\n",
       "        vertical-align: top;\n",
       "    }\n",
       "\n",
       "    .dataframe thead th {\n",
       "        text-align: right;\n",
       "    }\n",
       "</style>\n",
       "<table border=\"1\" class=\"dataframe\">\n",
       "  <thead>\n",
       "    <tr style=\"text-align: right;\">\n",
       "      <th></th>\n",
       "      <th>player</th>\n",
       "      <th>team</th>\n",
       "      <th>position</th>\n",
       "      <th>salary</th>\n",
       "    </tr>\n",
       "  </thead>\n",
       "  <tbody>\n",
       "    <tr>\n",
       "      <th>0</th>\n",
       "      <td>Jason Giambi</td>\n",
       "      <td>Colorado Rockies</td>\n",
       "      <td>First Baseman</td>\n",
       "      <td>1750.0</td>\n",
       "    </tr>\n",
       "    <tr>\n",
       "      <th>1</th>\n",
       "      <td>Joe Mauer</td>\n",
       "      <td>Minnesota Twins</td>\n",
       "      <td>Catcher</td>\n",
       "      <td>12500.0</td>\n",
       "    </tr>\n",
       "    <tr>\n",
       "      <th>2</th>\n",
       "      <td>Brad Penny</td>\n",
       "      <td>St. Louis Cardinals</td>\n",
       "      <td>Pitcher</td>\n",
       "      <td>7500.0</td>\n",
       "    </tr>\n",
       "  </tbody>\n",
       "</table>\n",
       "</div>"
      ],
      "text/plain": [
       "         player                 team       position   salary\n",
       "0  Jason Giambi     Colorado Rockies  First Baseman   1750.0\n",
       "1     Joe Mauer      Minnesota Twins        Catcher  12500.0\n",
       "2    Brad Penny  St. Louis Cardinals        Pitcher   7500.0"
      ]
     },
     "execution_count": 39,
     "metadata": {},
     "output_type": "execute_result"
    }
   ],
   "source": [
    "reservoir_df = pd.DataFrame(data=reservoir, columns=[\"player\", \"team\",\"position\", \"salary\"])\n",
    "reservoir_df.head()"
   ]
  }
 ],
 "metadata": {
  "kernelspec": {
   "display_name": "Python 3",
   "language": "python",
   "name": "python3"
  },
  "language_info": {
   "codemirror_mode": {
    "name": "ipython",
    "version": 3
   },
   "file_extension": ".py",
   "mimetype": "text/x-python",
   "name": "python",
   "nbconvert_exporter": "python",
   "pygments_lexer": "ipython3",
   "version": "3.8.5"
  }
 },
 "nbformat": 4,
 "nbformat_minor": 4
}
