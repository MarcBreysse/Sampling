{
 "cells": [
  {
   "cell_type": "markdown",
   "metadata": {},
   "source": [
    "\n",
    "<div class=\"alert alert-block alert-info\"><font size=\"5\"><center><b><u>Sprint6_Tasca mètodes de mostreig\n",
    "   </u></b></center></font>\n",
    "\\begin{align*}Marc\\:Breysse\\end{align*}"
   ]
  },
  {
   "cell_type": "markdown",
   "metadata": {},
   "source": [
    "<span style=color:blue>*Aprèn a realitzar mostreig de les dades amb Python*</span>\n",
    "\n",
    "https://towardsdatascience.com/the-5-sampling-algorithms-every-data-scientist-need-to-know-43c7bc11d17c"
   ]
  },
  {
   "cell_type": "markdown",
   "metadata": {},
   "source": [
    "# <span style=color:darkblue>Nivell 1</span>"
   ]
  },
  {
   "cell_type": "markdown",
   "metadata": {},
   "source": [
    "<u style=color:blue>Exercici 1:</u>\n",
    "\n",
    "<span style=color:blue>Agafa un conjunt de dades de tema esportiu que t'agradi. Realitza un mostreig de les dades generant una mostra aleatòria simple i una mostra sistemàtica.</span>"
   ]
  },
  {
   "cell_type": "markdown",
   "metadata": {},
   "source": [
    " #### <span style=color:green><ins> Mostra aleatòria simple de 100 mostres  </ins></span>"
   ]
  },
  {
   "cell_type": "code",
   "execution_count": 39,
   "metadata": {
    "ExecuteTime": {
     "end_time": "2021-04-23T09:47:00.109457Z",
     "start_time": "2021-04-23T09:47:00.097465Z"
    }
   },
   "outputs": [],
   "source": [
    "import os\n",
    "import pandas as pd\n",
    "import numpy as np\n",
    "import seaborn as sns\n",
    "import warnings\n",
    "import matplotlib.pyplot as plt\n",
    "import timeit\n",
    "import random"
   ]
  },
  {
   "cell_type": "code",
   "execution_count": 40,
   "metadata": {
    "ExecuteTime": {
     "end_time": "2021-04-23T09:47:00.932997Z",
     "start_time": "2021-04-23T09:47:00.903965Z"
    }
   },
   "outputs": [],
   "source": [
    "#pd.read_csv('Web_access_log-akumenius.com.txt', sep='delimiter', header=None, engine='python')\n",
    "\n",
    "Mlb = pd.read_csv('MLB.txt', sep='\\t', encoding='utf-8')"
   ]
  },
  {
   "cell_type": "code",
   "execution_count": 41,
   "metadata": {
    "ExecuteTime": {
     "end_time": "2021-04-23T09:47:01.074333Z",
     "start_time": "2021-04-23T09:47:01.057322Z"
    }
   },
   "outputs": [
    {
     "data": {
      "text/plain": [
       "(828, 4)"
      ]
     },
     "execution_count": 41,
     "metadata": {},
     "output_type": "execute_result"
    }
   ],
   "source": [
    "Mlb.shape"
   ]
  },
  {
   "cell_type": "code",
   "execution_count": 42,
   "metadata": {
    "ExecuteTime": {
     "end_time": "2021-04-23T09:47:01.577451Z",
     "start_time": "2021-04-23T09:47:01.555466Z"
    }
   },
   "outputs": [
    {
     "data": {
      "text/plain": [
       "Index(['player', 'team', 'position', 'salary'], dtype='object')"
      ]
     },
     "execution_count": 42,
     "metadata": {},
     "output_type": "execute_result"
    }
   ],
   "source": [
    "Mlb.columns"
   ]
  },
  {
   "cell_type": "code",
   "execution_count": 43,
   "metadata": {
    "ExecuteTime": {
     "end_time": "2021-04-23T09:47:02.110955Z",
     "start_time": "2021-04-23T09:47:02.076971Z"
    },
    "scrolled": false
   },
   "outputs": [
    {
     "data": {
      "text/html": [
       "<div>\n",
       "<style scoped>\n",
       "    .dataframe tbody tr th:only-of-type {\n",
       "        vertical-align: middle;\n",
       "    }\n",
       "\n",
       "    .dataframe tbody tr th {\n",
       "        vertical-align: top;\n",
       "    }\n",
       "\n",
       "    .dataframe thead th {\n",
       "        text-align: right;\n",
       "    }\n",
       "</style>\n",
       "<table border=\"1\" class=\"dataframe\">\n",
       "  <thead>\n",
       "    <tr style=\"text-align: right;\">\n",
       "      <th></th>\n",
       "      <th>player</th>\n",
       "      <th>team</th>\n",
       "      <th>position</th>\n",
       "      <th>salary</th>\n",
       "    </tr>\n",
       "  </thead>\n",
       "  <tbody>\n",
       "    <tr>\n",
       "      <th>0</th>\n",
       "      <td>Brandon Webb</td>\n",
       "      <td>Arizona Diamondbacks</td>\n",
       "      <td>Pitcher</td>\n",
       "      <td>8500.0</td>\n",
       "    </tr>\n",
       "    <tr>\n",
       "      <th>1</th>\n",
       "      <td>Danny Haren</td>\n",
       "      <td>Arizona Diamondbacks</td>\n",
       "      <td>Pitcher</td>\n",
       "      <td>8250.0</td>\n",
       "    </tr>\n",
       "    <tr>\n",
       "      <th>2</th>\n",
       "      <td>Chris Snyder</td>\n",
       "      <td>Arizona Diamondbacks</td>\n",
       "      <td>Catcher</td>\n",
       "      <td>5250.0</td>\n",
       "    </tr>\n",
       "    <tr>\n",
       "      <th>3</th>\n",
       "      <td>Edwin Jackson</td>\n",
       "      <td>Arizona Diamondbacks</td>\n",
       "      <td>Pitcher</td>\n",
       "      <td>4600.0</td>\n",
       "    </tr>\n",
       "    <tr>\n",
       "      <th>4</th>\n",
       "      <td>Adam LaRoche</td>\n",
       "      <td>Arizona Diamondbacks</td>\n",
       "      <td>First Baseman</td>\n",
       "      <td>4500.0</td>\n",
       "    </tr>\n",
       "    <tr>\n",
       "      <th>5</th>\n",
       "      <td>Chad Qualls</td>\n",
       "      <td>Arizona Diamondbacks</td>\n",
       "      <td>Pitcher</td>\n",
       "      <td>4185.0</td>\n",
       "    </tr>\n",
       "    <tr>\n",
       "      <th>6</th>\n",
       "      <td>Chris B. Young</td>\n",
       "      <td>Arizona Diamondbacks</td>\n",
       "      <td>Outfielder</td>\n",
       "      <td>3450.0</td>\n",
       "    </tr>\n",
       "  </tbody>\n",
       "</table>\n",
       "</div>"
      ],
      "text/plain": [
       "           player                  team       position  salary\n",
       "0    Brandon Webb  Arizona Diamondbacks        Pitcher  8500.0\n",
       "1     Danny Haren  Arizona Diamondbacks        Pitcher  8250.0\n",
       "2    Chris Snyder  Arizona Diamondbacks        Catcher  5250.0\n",
       "3   Edwin Jackson  Arizona Diamondbacks        Pitcher  4600.0\n",
       "4    Adam LaRoche  Arizona Diamondbacks  First Baseman  4500.0\n",
       "5     Chad Qualls  Arizona Diamondbacks        Pitcher  4185.0\n",
       "6  Chris B. Young  Arizona Diamondbacks     Outfielder  3450.0"
      ]
     },
     "execution_count": 43,
     "metadata": {},
     "output_type": "execute_result"
    }
   ],
   "source": [
    "Mlb.head(7)"
   ]
  },
  {
   "cell_type": "code",
   "execution_count": 44,
   "metadata": {
    "ExecuteTime": {
     "end_time": "2021-04-23T09:47:02.643410Z",
     "start_time": "2021-04-23T09:47:02.630421Z"
    }
   },
   "outputs": [
    {
     "data": {
      "text/plain": [
       "(10, 4)"
      ]
     },
     "execution_count": 44,
     "metadata": {},
     "output_type": "execute_result"
    }
   ],
   "source": [
    "random.seed(3)\n",
    "k = 10\n",
    "MlbSampleSimple = Mlb.sample(k)\n",
    "MlbSampleSimple.shape"
   ]
  },
  {
   "cell_type": "markdown",
   "metadata": {},
   "source": [
    "<span style=color:blue><b><em>In case of Numpy array</em></b></span>\n",
    "\n",
    "- <span style=color:blue>population = [2,5,7,8,9]</span> \n",
    "- <span style=color:blue>k = 2</span> \n",
    "- <span style=color:blue>random.sample(population, k)</span> "
   ]
  },
  {
   "cell_type": "code",
   "execution_count": 45,
   "metadata": {
    "ExecuteTime": {
     "end_time": "2021-04-23T09:47:03.706460Z",
     "start_time": "2021-04-23T09:47:03.685468Z"
    }
   },
   "outputs": [
    {
     "data": {
      "text/html": [
       "<div>\n",
       "<style scoped>\n",
       "    .dataframe tbody tr th:only-of-type {\n",
       "        vertical-align: middle;\n",
       "    }\n",
       "\n",
       "    .dataframe tbody tr th {\n",
       "        vertical-align: top;\n",
       "    }\n",
       "\n",
       "    .dataframe thead th {\n",
       "        text-align: right;\n",
       "    }\n",
       "</style>\n",
       "<table border=\"1\" class=\"dataframe\">\n",
       "  <thead>\n",
       "    <tr style=\"text-align: right;\">\n",
       "      <th></th>\n",
       "      <th>player</th>\n",
       "      <th>team</th>\n",
       "      <th>position</th>\n",
       "      <th>salary</th>\n",
       "    </tr>\n",
       "  </thead>\n",
       "  <tbody>\n",
       "    <tr>\n",
       "      <th>201</th>\n",
       "      <td>Joe Smith</td>\n",
       "      <td>Cleveland Indians</td>\n",
       "      <td>Pitcher</td>\n",
       "      <td>427.5</td>\n",
       "    </tr>\n",
       "    <tr>\n",
       "      <th>329</th>\n",
       "      <td>David DeJesus</td>\n",
       "      <td>Kansas City Royals</td>\n",
       "      <td>Outfielder</td>\n",
       "      <td>4700.0</td>\n",
       "    </tr>\n",
       "    <tr>\n",
       "      <th>813</th>\n",
       "      <td>Wil Nieves</td>\n",
       "      <td>Washington Nationals</td>\n",
       "      <td>Catcher</td>\n",
       "      <td>700.0</td>\n",
       "    </tr>\n",
       "    <tr>\n",
       "      <th>404</th>\n",
       "      <td>Ron Belisario</td>\n",
       "      <td>Los Angeles Dodgers</td>\n",
       "      <td>Pitcher</td>\n",
       "      <td>412.5</td>\n",
       "    </tr>\n",
       "    <tr>\n",
       "      <th>754</th>\n",
       "      <td>Nelson R. Cruz</td>\n",
       "      <td>Texas Rangers</td>\n",
       "      <td>Outfielder</td>\n",
       "      <td>440.0</td>\n",
       "    </tr>\n",
       "    <tr>\n",
       "      <th>593</th>\n",
       "      <td>Delwyn Young</td>\n",
       "      <td>Pittsburgh Pirates</td>\n",
       "      <td>Outfielder</td>\n",
       "      <td>444.5</td>\n",
       "    </tr>\n",
       "    <tr>\n",
       "      <th>198</th>\n",
       "      <td>Mark Grudzielanek</td>\n",
       "      <td>Cleveland Indians</td>\n",
       "      <td>Second Baseman</td>\n",
       "      <td>600.0</td>\n",
       "    </tr>\n",
       "    <tr>\n",
       "      <th>155</th>\n",
       "      <td>Andruw Jones</td>\n",
       "      <td>Chicago White Sox</td>\n",
       "      <td>Designated Hitter</td>\n",
       "      <td>500.0</td>\n",
       "    </tr>\n",
       "    <tr>\n",
       "      <th>51</th>\n",
       "      <td>Diory Hernandez</td>\n",
       "      <td>Atlanta Braves</td>\n",
       "      <td>Shortstop</td>\n",
       "      <td>400.0</td>\n",
       "    </tr>\n",
       "    <tr>\n",
       "      <th>395</th>\n",
       "      <td>Ramon Ortiz</td>\n",
       "      <td>Los Angeles Dodgers</td>\n",
       "      <td>Pitcher</td>\n",
       "      <td>1000.0</td>\n",
       "    </tr>\n",
       "  </tbody>\n",
       "</table>\n",
       "</div>"
      ],
      "text/plain": [
       "                player                  team           position  salary\n",
       "201          Joe Smith     Cleveland Indians            Pitcher   427.5\n",
       "329      David DeJesus    Kansas City Royals         Outfielder  4700.0\n",
       "813         Wil Nieves  Washington Nationals            Catcher   700.0\n",
       "404      Ron Belisario   Los Angeles Dodgers            Pitcher   412.5\n",
       "754     Nelson R. Cruz         Texas Rangers         Outfielder   440.0\n",
       "593       Delwyn Young    Pittsburgh Pirates         Outfielder   444.5\n",
       "198  Mark Grudzielanek     Cleveland Indians     Second Baseman   600.0\n",
       "155       Andruw Jones     Chicago White Sox  Designated Hitter   500.0\n",
       "51     Diory Hernandez        Atlanta Braves          Shortstop   400.0\n",
       "395        Ramon Ortiz   Los Angeles Dodgers            Pitcher  1000.0"
      ]
     },
     "execution_count": 45,
     "metadata": {},
     "output_type": "execute_result"
    }
   ],
   "source": [
    "MlbSampleSimple"
   ]
  },
  {
   "cell_type": "code",
   "execution_count": 46,
   "metadata": {
    "ExecuteTime": {
     "end_time": "2021-04-23T09:47:04.248465Z",
     "start_time": "2021-04-23T09:47:04.216486Z"
    }
   },
   "outputs": [
    {
     "data": {
      "text/html": [
       "<div>\n",
       "<style scoped>\n",
       "    .dataframe tbody tr th:only-of-type {\n",
       "        vertical-align: middle;\n",
       "    }\n",
       "\n",
       "    .dataframe tbody tr th {\n",
       "        vertical-align: top;\n",
       "    }\n",
       "\n",
       "    .dataframe thead th {\n",
       "        text-align: right;\n",
       "    }\n",
       "</style>\n",
       "<table border=\"1\" class=\"dataframe\">\n",
       "  <thead>\n",
       "    <tr style=\"text-align: right;\">\n",
       "      <th></th>\n",
       "      <th>player</th>\n",
       "      <th>team</th>\n",
       "      <th>position</th>\n",
       "      <th>salary</th>\n",
       "    </tr>\n",
       "  </thead>\n",
       "  <tbody>\n",
       "    <tr>\n",
       "      <th>51</th>\n",
       "      <td>Diory Hernandez</td>\n",
       "      <td>Atlanta Braves</td>\n",
       "      <td>Shortstop</td>\n",
       "      <td>400.0</td>\n",
       "    </tr>\n",
       "    <tr>\n",
       "      <th>155</th>\n",
       "      <td>Andruw Jones</td>\n",
       "      <td>Chicago White Sox</td>\n",
       "      <td>Designated Hitter</td>\n",
       "      <td>500.0</td>\n",
       "    </tr>\n",
       "    <tr>\n",
       "      <th>198</th>\n",
       "      <td>Mark Grudzielanek</td>\n",
       "      <td>Cleveland Indians</td>\n",
       "      <td>Second Baseman</td>\n",
       "      <td>600.0</td>\n",
       "    </tr>\n",
       "    <tr>\n",
       "      <th>201</th>\n",
       "      <td>Joe Smith</td>\n",
       "      <td>Cleveland Indians</td>\n",
       "      <td>Pitcher</td>\n",
       "      <td>427.5</td>\n",
       "    </tr>\n",
       "    <tr>\n",
       "      <th>329</th>\n",
       "      <td>David DeJesus</td>\n",
       "      <td>Kansas City Royals</td>\n",
       "      <td>Outfielder</td>\n",
       "      <td>4700.0</td>\n",
       "    </tr>\n",
       "    <tr>\n",
       "      <th>395</th>\n",
       "      <td>Ramon Ortiz</td>\n",
       "      <td>Los Angeles Dodgers</td>\n",
       "      <td>Pitcher</td>\n",
       "      <td>1000.0</td>\n",
       "    </tr>\n",
       "    <tr>\n",
       "      <th>404</th>\n",
       "      <td>Ron Belisario</td>\n",
       "      <td>Los Angeles Dodgers</td>\n",
       "      <td>Pitcher</td>\n",
       "      <td>412.5</td>\n",
       "    </tr>\n",
       "    <tr>\n",
       "      <th>593</th>\n",
       "      <td>Delwyn Young</td>\n",
       "      <td>Pittsburgh Pirates</td>\n",
       "      <td>Outfielder</td>\n",
       "      <td>444.5</td>\n",
       "    </tr>\n",
       "    <tr>\n",
       "      <th>754</th>\n",
       "      <td>Nelson R. Cruz</td>\n",
       "      <td>Texas Rangers</td>\n",
       "      <td>Outfielder</td>\n",
       "      <td>440.0</td>\n",
       "    </tr>\n",
       "    <tr>\n",
       "      <th>813</th>\n",
       "      <td>Wil Nieves</td>\n",
       "      <td>Washington Nationals</td>\n",
       "      <td>Catcher</td>\n",
       "      <td>700.0</td>\n",
       "    </tr>\n",
       "  </tbody>\n",
       "</table>\n",
       "</div>"
      ],
      "text/plain": [
       "                player                  team           position  salary\n",
       "51     Diory Hernandez        Atlanta Braves          Shortstop   400.0\n",
       "155       Andruw Jones     Chicago White Sox  Designated Hitter   500.0\n",
       "198  Mark Grudzielanek     Cleveland Indians     Second Baseman   600.0\n",
       "201          Joe Smith     Cleveland Indians            Pitcher   427.5\n",
       "329      David DeJesus    Kansas City Royals         Outfielder  4700.0\n",
       "395        Ramon Ortiz   Los Angeles Dodgers            Pitcher  1000.0\n",
       "404      Ron Belisario   Los Angeles Dodgers            Pitcher   412.5\n",
       "593       Delwyn Young    Pittsburgh Pirates         Outfielder   444.5\n",
       "754     Nelson R. Cruz         Texas Rangers         Outfielder   440.0\n",
       "813         Wil Nieves  Washington Nationals            Catcher   700.0"
      ]
     },
     "execution_count": 46,
     "metadata": {},
     "output_type": "execute_result"
    }
   ],
   "source": [
    "MlbSampleSimple.sort_index()"
   ]
  },
  {
   "cell_type": "markdown",
   "metadata": {},
   "source": [
    " #### <span style=color:green><ins> Mostra sistemàtica cada 6 files  </ins></span>\n",
    " https://www.statology.org/systematic-sampling-in-pandas/"
   ]
  },
  {
   "cell_type": "code",
   "execution_count": 47,
   "metadata": {
    "ExecuteTime": {
     "end_time": "2021-04-23T09:47:05.343084Z",
     "start_time": "2021-04-23T09:47:05.299113Z"
    }
   },
   "outputs": [
    {
     "data": {
      "text/html": [
       "<div>\n",
       "<style scoped>\n",
       "    .dataframe tbody tr th:only-of-type {\n",
       "        vertical-align: middle;\n",
       "    }\n",
       "\n",
       "    .dataframe tbody tr th {\n",
       "        vertical-align: top;\n",
       "    }\n",
       "\n",
       "    .dataframe thead th {\n",
       "        text-align: right;\n",
       "    }\n",
       "</style>\n",
       "<table border=\"1\" class=\"dataframe\">\n",
       "  <thead>\n",
       "    <tr style=\"text-align: right;\">\n",
       "      <th></th>\n",
       "      <th>player</th>\n",
       "      <th>team</th>\n",
       "      <th>position</th>\n",
       "      <th>salary</th>\n",
       "    </tr>\n",
       "  </thead>\n",
       "  <tbody>\n",
       "    <tr>\n",
       "      <th>0</th>\n",
       "      <td>Brandon Webb</td>\n",
       "      <td>Arizona Diamondbacks</td>\n",
       "      <td>Pitcher</td>\n",
       "      <td>8500.0</td>\n",
       "    </tr>\n",
       "    <tr>\n",
       "      <th>6</th>\n",
       "      <td>Chris B. Young</td>\n",
       "      <td>Arizona Diamondbacks</td>\n",
       "      <td>Outfielder</td>\n",
       "      <td>3450.0</td>\n",
       "    </tr>\n",
       "    <tr>\n",
       "      <th>12</th>\n",
       "      <td>Miguel Montero</td>\n",
       "      <td>Arizona Diamondbacks</td>\n",
       "      <td>Catcher</td>\n",
       "      <td>2000.0</td>\n",
       "    </tr>\n",
       "    <tr>\n",
       "      <th>18</th>\n",
       "      <td>Juan C. Gutierrez</td>\n",
       "      <td>Arizona Diamondbacks</td>\n",
       "      <td>Pitcher</td>\n",
       "      <td>411.0</td>\n",
       "    </tr>\n",
       "    <tr>\n",
       "      <th>24</th>\n",
       "      <td>Rusty Ryal</td>\n",
       "      <td>Arizona Diamondbacks</td>\n",
       "      <td>Third Baseman</td>\n",
       "      <td>401.0</td>\n",
       "    </tr>\n",
       "    <tr>\n",
       "      <th>...</th>\n",
       "      <td>...</td>\n",
       "      <td>...</td>\n",
       "      <td>...</td>\n",
       "      <td>...</td>\n",
       "    </tr>\n",
       "    <tr>\n",
       "      <th>798</th>\n",
       "      <td>Adam Dunn</td>\n",
       "      <td>Washington Nationals</td>\n",
       "      <td>First Baseman</td>\n",
       "      <td>12000.0</td>\n",
       "    </tr>\n",
       "    <tr>\n",
       "      <th>804</th>\n",
       "      <td>Ivan Rodriguez</td>\n",
       "      <td>Washington Nationals</td>\n",
       "      <td>Catcher</td>\n",
       "      <td>3000.0</td>\n",
       "    </tr>\n",
       "    <tr>\n",
       "      <th>810</th>\n",
       "      <td>Sean Burnett</td>\n",
       "      <td>Washington Nationals</td>\n",
       "      <td>Pitcher</td>\n",
       "      <td>775.0</td>\n",
       "    </tr>\n",
       "    <tr>\n",
       "      <th>816</th>\n",
       "      <td>John Lannan</td>\n",
       "      <td>Washington Nationals</td>\n",
       "      <td>Pitcher</td>\n",
       "      <td>458.0</td>\n",
       "    </tr>\n",
       "    <tr>\n",
       "      <th>822</th>\n",
       "      <td>Tyler Clippard</td>\n",
       "      <td>Washington Nationals</td>\n",
       "      <td>Pitcher</td>\n",
       "      <td>401.0</td>\n",
       "    </tr>\n",
       "  </tbody>\n",
       "</table>\n",
       "<p>138 rows × 4 columns</p>\n",
       "</div>"
      ],
      "text/plain": [
       "                player                  team       position   salary\n",
       "0         Brandon Webb  Arizona Diamondbacks        Pitcher   8500.0\n",
       "6       Chris B. Young  Arizona Diamondbacks     Outfielder   3450.0\n",
       "12      Miguel Montero  Arizona Diamondbacks        Catcher   2000.0\n",
       "18   Juan C. Gutierrez  Arizona Diamondbacks        Pitcher    411.0\n",
       "24          Rusty Ryal  Arizona Diamondbacks  Third Baseman    401.0\n",
       "..                 ...                   ...            ...      ...\n",
       "798          Adam Dunn  Washington Nationals  First Baseman  12000.0\n",
       "804     Ivan Rodriguez  Washington Nationals        Catcher   3000.0\n",
       "810       Sean Burnett  Washington Nationals        Pitcher    775.0\n",
       "816        John Lannan  Washington Nationals        Pitcher    458.0\n",
       "822     Tyler Clippard  Washington Nationals        Pitcher    401.0\n",
       "\n",
       "[138 rows x 4 columns]"
      ]
     },
     "execution_count": 47,
     "metadata": {},
     "output_type": "execute_result"
    }
   ],
   "source": [
    "sys_sample_Mlb = Mlb.iloc[::6]\n",
    "sys_sample_Mlb"
   ]
  },
  {
   "cell_type": "markdown",
   "metadata": {},
   "source": [
    "# <span style=color:darkblue>Nivell 2</span>"
   ]
  },
  {
   "cell_type": "markdown",
   "metadata": {},
   "source": [
    "<u style=color:blue>Exercici 2:</u>\n",
    "\n",
    "<span style=color:blue>Continua amb el conjunt de dades de tema esportiu i genera una mostra estratificada i una mostra utilitzant SMOTE (Synthetic Minority Oversampling Technique).</span>"
   ]
  },
  {
   "cell_type": "markdown",
   "metadata": {},
   "source": [
    " #### <span style=color:green><ins> Mostra estratificada de 100 mostres (12% de cada posición existent) </ins></span>"
   ]
  },
  {
   "cell_type": "code",
   "execution_count": 48,
   "metadata": {
    "ExecuteTime": {
     "end_time": "2021-04-23T09:47:07.672354Z",
     "start_time": "2021-04-23T09:47:07.602390Z"
    }
   },
   "outputs": [
    {
     "data": {
      "text/html": [
       "<div>\n",
       "<style scoped>\n",
       "    .dataframe tbody tr th:only-of-type {\n",
       "        vertical-align: middle;\n",
       "    }\n",
       "\n",
       "    .dataframe tbody tr th {\n",
       "        vertical-align: top;\n",
       "    }\n",
       "\n",
       "    .dataframe thead th {\n",
       "        text-align: right;\n",
       "    }\n",
       "</style>\n",
       "<table border=\"1\" class=\"dataframe\">\n",
       "  <thead>\n",
       "    <tr style=\"text-align: right;\">\n",
       "      <th></th>\n",
       "      <th></th>\n",
       "      <th>player</th>\n",
       "      <th>team</th>\n",
       "      <th>position</th>\n",
       "      <th>salary</th>\n",
       "    </tr>\n",
       "    <tr>\n",
       "      <th>position</th>\n",
       "      <th></th>\n",
       "      <th></th>\n",
       "      <th></th>\n",
       "      <th></th>\n",
       "      <th></th>\n",
       "    </tr>\n",
       "  </thead>\n",
       "  <tbody>\n",
       "    <tr>\n",
       "      <th rowspan=\"8\" valign=\"top\">Catcher</th>\n",
       "      <th>812</th>\n",
       "      <td>Jesus Flores</td>\n",
       "      <td>Washington Nationals</td>\n",
       "      <td>Catcher</td>\n",
       "      <td>750.0</td>\n",
       "    </tr>\n",
       "    <tr>\n",
       "      <th>813</th>\n",
       "      <td>Wil Nieves</td>\n",
       "      <td>Washington Nationals</td>\n",
       "      <td>Catcher</td>\n",
       "      <td>700.0</td>\n",
       "    </tr>\n",
       "    <tr>\n",
       "      <th>639</th>\n",
       "      <td>Bengie Molina</td>\n",
       "      <td>San Francisco Giants</td>\n",
       "      <td>Catcher</td>\n",
       "      <td>4500.0</td>\n",
       "    </tr>\n",
       "    <tr>\n",
       "      <th>500</th>\n",
       "      <td>Jorge Posada</td>\n",
       "      <td>New York Yankees</td>\n",
       "      <td>Catcher</td>\n",
       "      <td>13100.0</td>\n",
       "    </tr>\n",
       "    <tr>\n",
       "      <th>656</th>\n",
       "      <td>Eli Whiteside</td>\n",
       "      <td>San Francisco Giants</td>\n",
       "      <td>Catcher</td>\n",
       "      <td>405.0</td>\n",
       "    </tr>\n",
       "    <tr>\n",
       "      <th>397</th>\n",
       "      <td>Brad Ausmus</td>\n",
       "      <td>Los Angeles Dodgers</td>\n",
       "      <td>Catcher</td>\n",
       "      <td>850.0</td>\n",
       "    </tr>\n",
       "    <tr>\n",
       "      <th>12</th>\n",
       "      <td>Miguel Montero</td>\n",
       "      <td>Arizona Diamondbacks</td>\n",
       "      <td>Catcher</td>\n",
       "      <td>2000.0</td>\n",
       "    </tr>\n",
       "    <tr>\n",
       "      <th>814</th>\n",
       "      <td>Chris Coste</td>\n",
       "      <td>Washington Nationals</td>\n",
       "      <td>Catcher</td>\n",
       "      <td>650.0</td>\n",
       "    </tr>\n",
       "    <tr>\n",
       "      <th>Designated Hitter</th>\n",
       "      <th>445</th>\n",
       "      <td>Jason Kubel</td>\n",
       "      <td>Minnesota Twins</td>\n",
       "      <td>Designated Hitter</td>\n",
       "      <td>4100.0</td>\n",
       "    </tr>\n",
       "    <tr>\n",
       "      <th rowspan=\"5\" valign=\"top\">First Baseman</th>\n",
       "      <th>40</th>\n",
       "      <td>Eric Hinske</td>\n",
       "      <td>Atlanta Braves</td>\n",
       "      <td>First Baseman</td>\n",
       "      <td>1000.0</td>\n",
       "    </tr>\n",
       "    <tr>\n",
       "      <th>606</th>\n",
       "      <td>Adrian Gonzalez</td>\n",
       "      <td>San Diego Padres</td>\n",
       "      <td>First Baseman</td>\n",
       "      <td>4875.0</td>\n",
       "    </tr>\n",
       "    <tr>\n",
       "      <th>393</th>\n",
       "      <td>James Loney</td>\n",
       "      <td>Los Angeles Dodgers</td>\n",
       "      <td>First Baseman</td>\n",
       "      <td>3100.0</td>\n",
       "    </tr>\n",
       "    <tr>\n",
       "      <th>497</th>\n",
       "      <td>Mark Teixeira</td>\n",
       "      <td>New York Yankees</td>\n",
       "      <td>First Baseman</td>\n",
       "      <td>20625.0</td>\n",
       "    </tr>\n",
       "    <tr>\n",
       "      <th>345</th>\n",
       "      <td>Billy Butler</td>\n",
       "      <td>Kansas City Royals</td>\n",
       "      <td>First Baseman</td>\n",
       "      <td>470.0</td>\n",
       "    </tr>\n",
       "    <tr>\n",
       "      <th>Outfielder</th>\n",
       "      <th>358</th>\n",
       "      <td>Hideki Matsui</td>\n",
       "      <td>Los Angeles Angeles</td>\n",
       "      <td>Outfielder</td>\n",
       "      <td>6000.0</td>\n",
       "    </tr>\n",
       "  </tbody>\n",
       "</table>\n",
       "</div>"
      ],
      "text/plain": [
       "                                player                  team  \\\n",
       "position                                                       \n",
       "Catcher           812     Jesus Flores  Washington Nationals   \n",
       "                  813       Wil Nieves  Washington Nationals   \n",
       "                  639    Bengie Molina  San Francisco Giants   \n",
       "                  500     Jorge Posada      New York Yankees   \n",
       "                  656    Eli Whiteside  San Francisco Giants   \n",
       "                  397      Brad Ausmus   Los Angeles Dodgers   \n",
       "                  12    Miguel Montero  Arizona Diamondbacks   \n",
       "                  814      Chris Coste  Washington Nationals   \n",
       "Designated Hitter 445      Jason Kubel       Minnesota Twins   \n",
       "First Baseman     40       Eric Hinske        Atlanta Braves   \n",
       "                  606  Adrian Gonzalez      San Diego Padres   \n",
       "                  393      James Loney   Los Angeles Dodgers   \n",
       "                  497    Mark Teixeira      New York Yankees   \n",
       "                  345     Billy Butler    Kansas City Royals   \n",
       "Outfielder        358    Hideki Matsui   Los Angeles Angeles   \n",
       "\n",
       "                                position   salary  \n",
       "position                                           \n",
       "Catcher           812            Catcher    750.0  \n",
       "                  813            Catcher    700.0  \n",
       "                  639            Catcher   4500.0  \n",
       "                  500            Catcher  13100.0  \n",
       "                  656            Catcher    405.0  \n",
       "                  397            Catcher    850.0  \n",
       "                  12             Catcher   2000.0  \n",
       "                  814            Catcher    650.0  \n",
       "Designated Hitter 445  Designated Hitter   4100.0  \n",
       "First Baseman     40       First Baseman   1000.0  \n",
       "                  606      First Baseman   4875.0  \n",
       "                  393      First Baseman   3100.0  \n",
       "                  497      First Baseman  20625.0  \n",
       "                  345      First Baseman    470.0  \n",
       "Outfielder        358         Outfielder   6000.0  "
      ]
     },
     "execution_count": 48,
     "metadata": {},
     "output_type": "execute_result"
    }
   ],
   "source": [
    "MlbStratified = Mlb.groupby('position', group_keys = True).apply(pd.DataFrame.sample, frac=.120)\n",
    "MlbStratified.head(15)"
   ]
  },
  {
   "cell_type": "code",
   "execution_count": 49,
   "metadata": {
    "ExecuteTime": {
     "end_time": "2021-04-23T09:47:08.140465Z",
     "start_time": "2021-04-23T09:47:08.130471Z"
    }
   },
   "outputs": [
    {
     "data": {
      "text/plain": [
       "(100, 4)"
      ]
     },
     "execution_count": 49,
     "metadata": {},
     "output_type": "execute_result"
    }
   ],
   "source": [
    "MlbStratified.shape"
   ]
  },
  {
   "cell_type": "markdown",
   "metadata": {},
   "source": [
    "<span style=color:green><ins> Mostra estratificada de 100 mostres amb \"Train-Test\" </ins></span>\n",
    "\n",
    "https://www.w3schools.com/python/python_ml_train_test.asp"
   ]
  },
  {
   "cell_type": "code",
   "execution_count": 50,
   "metadata": {
    "ExecuteTime": {
     "end_time": "2021-04-23T09:47:09.276492Z",
     "start_time": "2021-04-23T09:47:09.264477Z"
    }
   },
   "outputs": [],
   "source": [
    "from sklearn.model_selection import train_test_split\n",
    "Mlb_train, Mlb_test = train_test_split(Mlb, test_size=100, stratify = Mlb['position'])"
   ]
  },
  {
   "cell_type": "code",
   "execution_count": 51,
   "metadata": {
    "ExecuteTime": {
     "end_time": "2021-04-23T09:47:09.824459Z",
     "start_time": "2021-04-23T09:47:09.788479Z"
    }
   },
   "outputs": [
    {
     "data": {
      "text/html": [
       "<div>\n",
       "<style scoped>\n",
       "    .dataframe tbody tr th:only-of-type {\n",
       "        vertical-align: middle;\n",
       "    }\n",
       "\n",
       "    .dataframe tbody tr th {\n",
       "        vertical-align: top;\n",
       "    }\n",
       "\n",
       "    .dataframe thead th {\n",
       "        text-align: right;\n",
       "    }\n",
       "</style>\n",
       "<table border=\"1\" class=\"dataframe\">\n",
       "  <thead>\n",
       "    <tr style=\"text-align: right;\">\n",
       "      <th></th>\n",
       "      <th>player</th>\n",
       "      <th>team</th>\n",
       "      <th>position</th>\n",
       "      <th>salary</th>\n",
       "    </tr>\n",
       "  </thead>\n",
       "  <tbody>\n",
       "    <tr>\n",
       "      <th>1</th>\n",
       "      <td>Danny Haren</td>\n",
       "      <td>Arizona Diamondbacks</td>\n",
       "      <td>Pitcher</td>\n",
       "      <td>8250.000</td>\n",
       "    </tr>\n",
       "    <tr>\n",
       "      <th>7</th>\n",
       "      <td>Stephen Drew</td>\n",
       "      <td>Arizona Diamondbacks</td>\n",
       "      <td>Shortstop</td>\n",
       "      <td>3400.000</td>\n",
       "    </tr>\n",
       "    <tr>\n",
       "      <th>29</th>\n",
       "      <td>Kenshin Kawakami</td>\n",
       "      <td>Atlanta Braves</td>\n",
       "      <td>Pitcher</td>\n",
       "      <td>7333.666</td>\n",
       "    </tr>\n",
       "    <tr>\n",
       "      <th>33</th>\n",
       "      <td>Takashi Saito</td>\n",
       "      <td>Atlanta Braves</td>\n",
       "      <td>Pitcher</td>\n",
       "      <td>3200.000</td>\n",
       "    </tr>\n",
       "    <tr>\n",
       "      <th>37</th>\n",
       "      <td>Troy Glaus</td>\n",
       "      <td>Atlanta Braves</td>\n",
       "      <td>First Baseman</td>\n",
       "      <td>1750.000</td>\n",
       "    </tr>\n",
       "    <tr>\n",
       "      <th>...</th>\n",
       "      <td>...</td>\n",
       "      <td>...</td>\n",
       "      <td>...</td>\n",
       "      <td>...</td>\n",
       "    </tr>\n",
       "    <tr>\n",
       "      <th>790</th>\n",
       "      <td>Brandon Morrow</td>\n",
       "      <td>Toronto Blue Jays</td>\n",
       "      <td>Pitcher</td>\n",
       "      <td>409.800</td>\n",
       "    </tr>\n",
       "    <tr>\n",
       "      <th>791</th>\n",
       "      <td>Merkin Valdez</td>\n",
       "      <td>Toronto Blue Jays</td>\n",
       "      <td>Pitcher</td>\n",
       "      <td>409.500</td>\n",
       "    </tr>\n",
       "    <tr>\n",
       "      <th>800</th>\n",
       "      <td>Jason Marquis</td>\n",
       "      <td>Washington Nationals</td>\n",
       "      <td>Pitcher</td>\n",
       "      <td>7500.000</td>\n",
       "    </tr>\n",
       "    <tr>\n",
       "      <th>802</th>\n",
       "      <td>Josh Willingham</td>\n",
       "      <td>Washington Nationals</td>\n",
       "      <td>Outfielder</td>\n",
       "      <td>4600.000</td>\n",
       "    </tr>\n",
       "    <tr>\n",
       "      <th>808</th>\n",
       "      <td>Adam Kennedy</td>\n",
       "      <td>Washington Nationals</td>\n",
       "      <td>Second Baseman</td>\n",
       "      <td>1250.000</td>\n",
       "    </tr>\n",
       "  </tbody>\n",
       "</table>\n",
       "<p>100 rows × 4 columns</p>\n",
       "</div>"
      ],
      "text/plain": [
       "               player                  team        position    salary\n",
       "1         Danny Haren  Arizona Diamondbacks         Pitcher  8250.000\n",
       "7        Stephen Drew  Arizona Diamondbacks       Shortstop  3400.000\n",
       "29   Kenshin Kawakami        Atlanta Braves         Pitcher  7333.666\n",
       "33      Takashi Saito        Atlanta Braves         Pitcher  3200.000\n",
       "37         Troy Glaus        Atlanta Braves   First Baseman  1750.000\n",
       "..                ...                   ...             ...       ...\n",
       "790    Brandon Morrow     Toronto Blue Jays         Pitcher   409.800\n",
       "791     Merkin Valdez     Toronto Blue Jays         Pitcher   409.500\n",
       "800     Jason Marquis  Washington Nationals         Pitcher  7500.000\n",
       "802   Josh Willingham  Washington Nationals      Outfielder  4600.000\n",
       "808      Adam Kennedy  Washington Nationals  Second Baseman  1250.000\n",
       "\n",
       "[100 rows x 4 columns]"
      ]
     },
     "execution_count": 51,
     "metadata": {},
     "output_type": "execute_result"
    }
   ],
   "source": [
    "Mlb_test.sort_index()"
   ]
  },
  {
   "cell_type": "markdown",
   "metadata": {},
   "source": [
    " #### <span style=color:green><ins> Mostra SMOTE (Synthetic Minority Oversampling Technique)  </ins></span>\n",
    " https://machinelearningmastery.com/smote-oversampling-for-imbalanced-classification/"
   ]
  },
  {
   "cell_type": "markdown",
   "metadata": {},
   "source": [
    "https://towardsdatascience.com/how-to-effortlessly-handle-class-imbalance-with-python-and-smote-9b715ca8e5a7\n",
    "\n",
    "https://towardsdatascience.com/5-smote-techniques-for-oversampling-your-imbalance-data-b8155bdbe2b5"
   ]
  },
  {
   "cell_type": "code",
   "execution_count": 52,
   "metadata": {
    "ExecuteTime": {
     "end_time": "2021-04-23T09:47:14.691465Z",
     "start_time": "2021-04-23T09:47:14.655485Z"
    }
   },
   "outputs": [
    {
     "data": {
      "text/html": [
       "<div>\n",
       "<style scoped>\n",
       "    .dataframe tbody tr th:only-of-type {\n",
       "        vertical-align: middle;\n",
       "    }\n",
       "\n",
       "    .dataframe tbody tr th {\n",
       "        vertical-align: top;\n",
       "    }\n",
       "\n",
       "    .dataframe thead th {\n",
       "        text-align: right;\n",
       "    }\n",
       "</style>\n",
       "<table border=\"1\" class=\"dataframe\">\n",
       "  <thead>\n",
       "    <tr style=\"text-align: right;\">\n",
       "      <th></th>\n",
       "      <th>player</th>\n",
       "      <th>salary</th>\n",
       "    </tr>\n",
       "    <tr>\n",
       "      <th>position</th>\n",
       "      <th></th>\n",
       "      <th></th>\n",
       "    </tr>\n",
       "  </thead>\n",
       "  <tbody>\n",
       "    <tr>\n",
       "      <th>Catcher</th>\n",
       "      <td>67</td>\n",
       "      <td>67</td>\n",
       "    </tr>\n",
       "    <tr>\n",
       "      <th>Designated Hitter</th>\n",
       "      <td>7</td>\n",
       "      <td>7</td>\n",
       "    </tr>\n",
       "    <tr>\n",
       "      <th>First Baseman</th>\n",
       "      <td>42</td>\n",
       "      <td>42</td>\n",
       "    </tr>\n",
       "    <tr>\n",
       "      <th>Infielder</th>\n",
       "      <td>4</td>\n",
       "      <td>4</td>\n",
       "    </tr>\n",
       "    <tr>\n",
       "      <th>Outfielder</th>\n",
       "      <td>148</td>\n",
       "      <td>148</td>\n",
       "    </tr>\n",
       "    <tr>\n",
       "      <th>Pitcher</th>\n",
       "      <td>410</td>\n",
       "      <td>410</td>\n",
       "    </tr>\n",
       "    <tr>\n",
       "      <th>Second Baseman</th>\n",
       "      <td>48</td>\n",
       "      <td>48</td>\n",
       "    </tr>\n",
       "    <tr>\n",
       "      <th>Shortstop</th>\n",
       "      <td>56</td>\n",
       "      <td>56</td>\n",
       "    </tr>\n",
       "    <tr>\n",
       "      <th>Third Baseman</th>\n",
       "      <td>46</td>\n",
       "      <td>46</td>\n",
       "    </tr>\n",
       "  </tbody>\n",
       "</table>\n",
       "</div>"
      ],
      "text/plain": [
       "                   player  salary\n",
       "position                         \n",
       "Catcher                67      67\n",
       "Designated Hitter       7       7\n",
       "First Baseman          42      42\n",
       "Infielder               4       4\n",
       "Outfielder            148     148\n",
       "Pitcher               410     410\n",
       "Second Baseman         48      48\n",
       "Shortstop              56      56\n",
       "Third Baseman          46      46"
      ]
     },
     "execution_count": 52,
     "metadata": {},
     "output_type": "execute_result"
    }
   ],
   "source": [
    "# count positions\n",
    "Mlb.set_index([\"position\",\"team\"]).count(level=\"position\")"
   ]
  },
  {
   "cell_type": "markdown",
   "metadata": {},
   "source": [
    "#### <span style=color:green><ins> 'Designated Hitler' and 'Infielder' categories have very few samples....Let's oversample  </ins></span>"
   ]
  },
  {
   "cell_type": "markdown",
   "metadata": {},
   "source": [
    "<span style=color:green><ins> Data preparation to get read of textual data  </ins></span>"
   ]
  },
  {
   "cell_type": "code",
   "execution_count": 61,
   "metadata": {
    "ExecuteTime": {
     "end_time": "2021-04-23T09:51:56.833725Z",
     "start_time": "2021-04-23T09:51:56.779776Z"
    },
    "scrolled": false
   },
   "outputs": [
    {
     "data": {
      "text/html": [
       "<div>\n",
       "<style scoped>\n",
       "    .dataframe tbody tr th:only-of-type {\n",
       "        vertical-align: middle;\n",
       "    }\n",
       "\n",
       "    .dataframe tbody tr th {\n",
       "        vertical-align: top;\n",
       "    }\n",
       "\n",
       "    .dataframe thead th {\n",
       "        text-align: right;\n",
       "    }\n",
       "</style>\n",
       "<table border=\"1\" class=\"dataframe\">\n",
       "  <thead>\n",
       "    <tr style=\"text-align: right;\">\n",
       "      <th></th>\n",
       "      <th>salary</th>\n",
       "      <th>randNumCol</th>\n",
       "      <th>position_Designated Hitter</th>\n",
       "      <th>position_First Baseman</th>\n",
       "      <th>position_Infielder</th>\n",
       "      <th>position_Outfielder</th>\n",
       "      <th>position_Pitcher</th>\n",
       "      <th>position_Second Baseman</th>\n",
       "      <th>position_Shortstop</th>\n",
       "      <th>position_Third Baseman</th>\n",
       "    </tr>\n",
       "  </thead>\n",
       "  <tbody>\n",
       "    <tr>\n",
       "      <th>0</th>\n",
       "      <td>8500.0</td>\n",
       "      <td>127</td>\n",
       "      <td>0</td>\n",
       "      <td>0</td>\n",
       "      <td>0</td>\n",
       "      <td>0</td>\n",
       "      <td>1</td>\n",
       "      <td>0</td>\n",
       "      <td>0</td>\n",
       "      <td>0</td>\n",
       "    </tr>\n",
       "    <tr>\n",
       "      <th>1</th>\n",
       "      <td>8250.0</td>\n",
       "      <td>730</td>\n",
       "      <td>0</td>\n",
       "      <td>0</td>\n",
       "      <td>0</td>\n",
       "      <td>0</td>\n",
       "      <td>1</td>\n",
       "      <td>0</td>\n",
       "      <td>0</td>\n",
       "      <td>0</td>\n",
       "    </tr>\n",
       "    <tr>\n",
       "      <th>2</th>\n",
       "      <td>5250.0</td>\n",
       "      <td>218</td>\n",
       "      <td>0</td>\n",
       "      <td>0</td>\n",
       "      <td>0</td>\n",
       "      <td>0</td>\n",
       "      <td>0</td>\n",
       "      <td>0</td>\n",
       "      <td>0</td>\n",
       "      <td>0</td>\n",
       "    </tr>\n",
       "    <tr>\n",
       "      <th>3</th>\n",
       "      <td>4600.0</td>\n",
       "      <td>659</td>\n",
       "      <td>0</td>\n",
       "      <td>0</td>\n",
       "      <td>0</td>\n",
       "      <td>0</td>\n",
       "      <td>1</td>\n",
       "      <td>0</td>\n",
       "      <td>0</td>\n",
       "      <td>0</td>\n",
       "    </tr>\n",
       "    <tr>\n",
       "      <th>4</th>\n",
       "      <td>4500.0</td>\n",
       "      <td>539</td>\n",
       "      <td>0</td>\n",
       "      <td>1</td>\n",
       "      <td>0</td>\n",
       "      <td>0</td>\n",
       "      <td>0</td>\n",
       "      <td>0</td>\n",
       "      <td>0</td>\n",
       "      <td>0</td>\n",
       "    </tr>\n",
       "  </tbody>\n",
       "</table>\n",
       "</div>"
      ],
      "text/plain": [
       "   salary  randNumCol  position_Designated Hitter  position_First Baseman  \\\n",
       "0  8500.0         127                           0                       0   \n",
       "1  8250.0         730                           0                       0   \n",
       "2  5250.0         218                           0                       0   \n",
       "3  4600.0         659                           0                       0   \n",
       "4  4500.0         539                           0                       1   \n",
       "\n",
       "   position_Infielder  position_Outfielder  position_Pitcher  \\\n",
       "0                   0                    0                 1   \n",
       "1                   0                    0                 1   \n",
       "2                   0                    0                 0   \n",
       "3                   0                    0                 1   \n",
       "4                   0                    0                 0   \n",
       "\n",
       "   position_Second Baseman  position_Shortstop  position_Third Baseman  \n",
       "0                        0                   0                       0  \n",
       "1                        0                   0                       0  \n",
       "2                        0                   0                       0  \n",
       "3                        0                   0                       0  \n",
       "4                        0                   0                       0  "
      ]
     },
     "execution_count": 61,
     "metadata": {},
     "output_type": "execute_result"
    }
   ],
   "source": [
    "# Remap to integers: N/A since no variables with 2 outputs\n",
    "\n",
    "# Create dummy variables\n",
    "dummy_position_type = pd.get_dummies(Mlb['position'], prefix='position', drop_first=True)\n",
    "\n",
    "# Drop unnecessary columns\n",
    "to_drop = ['player', 'team', 'position']\n",
    "Mlb.drop(to_drop, axis=1, inplace=True)\n",
    "\n",
    "# Add new random column\n",
    "Mlb['randNumCol'] = np.random.randint(0,828, size=len(Mlb))\n",
    "\n",
    "# Merge into a single data frame\n",
    "merged = pd.concat([Mlb, dummy_position_type], axis=1)\n",
    "merged.head()"
   ]
  },
  {
   "cell_type": "code",
   "execution_count": 62,
   "metadata": {
    "ExecuteTime": {
     "end_time": "2021-04-23T09:51:57.499330Z",
     "start_time": "2021-04-23T09:51:57.490338Z"
    }
   },
   "outputs": [
    {
     "data": {
      "text/plain": [
       "(828, 10)"
      ]
     },
     "execution_count": 62,
     "metadata": {},
     "output_type": "execute_result"
    }
   ],
   "source": [
    "merged.shape"
   ]
  },
  {
   "cell_type": "code",
   "execution_count": 63,
   "metadata": {
    "ExecuteTime": {
     "end_time": "2021-04-23T09:51:58.102750Z",
     "start_time": "2021-04-23T09:51:58.078768Z"
    }
   },
   "outputs": [
    {
     "data": {
      "text/html": [
       "<div>\n",
       "<style scoped>\n",
       "    .dataframe tbody tr th:only-of-type {\n",
       "        vertical-align: middle;\n",
       "    }\n",
       "\n",
       "    .dataframe tbody tr th {\n",
       "        vertical-align: top;\n",
       "    }\n",
       "\n",
       "    .dataframe thead th {\n",
       "        text-align: right;\n",
       "    }\n",
       "</style>\n",
       "<table border=\"1\" class=\"dataframe\">\n",
       "  <thead>\n",
       "    <tr style=\"text-align: right;\">\n",
       "      <th></th>\n",
       "      <th>salary</th>\n",
       "      <th>randNumCol</th>\n",
       "      <th>position_Shortstop</th>\n",
       "    </tr>\n",
       "  </thead>\n",
       "  <tbody>\n",
       "    <tr>\n",
       "      <th>0</th>\n",
       "      <td>8500.0</td>\n",
       "      <td>127</td>\n",
       "      <td>0</td>\n",
       "    </tr>\n",
       "    <tr>\n",
       "      <th>1</th>\n",
       "      <td>8250.0</td>\n",
       "      <td>730</td>\n",
       "      <td>0</td>\n",
       "    </tr>\n",
       "    <tr>\n",
       "      <th>2</th>\n",
       "      <td>5250.0</td>\n",
       "      <td>218</td>\n",
       "      <td>0</td>\n",
       "    </tr>\n",
       "    <tr>\n",
       "      <th>3</th>\n",
       "      <td>4600.0</td>\n",
       "      <td>659</td>\n",
       "      <td>0</td>\n",
       "    </tr>\n",
       "    <tr>\n",
       "      <th>4</th>\n",
       "      <td>4500.0</td>\n",
       "      <td>539</td>\n",
       "      <td>0</td>\n",
       "    </tr>\n",
       "  </tbody>\n",
       "</table>\n",
       "</div>"
      ],
      "text/plain": [
       "   salary  randNumCol  position_Shortstop\n",
       "0  8500.0         127                   0\n",
       "1  8250.0         730                   0\n",
       "2  5250.0         218                   0\n",
       "3  4600.0         659                   0\n",
       "4  4500.0         539                   0"
      ]
     },
     "execution_count": 63,
     "metadata": {},
     "output_type": "execute_result"
    }
   ],
   "source": [
    "merged_r = merged[['salary', 'randNumCol','position_Shortstop']]\n",
    "merged_r.head()"
   ]
  },
  {
   "cell_type": "code",
   "execution_count": 64,
   "metadata": {
    "ExecuteTime": {
     "end_time": "2021-04-23T09:51:59.293900Z",
     "start_time": "2021-04-23T09:51:58.698329Z"
    }
   },
   "outputs": [
    {
     "data": {
      "text/plain": [
       "<AxesSubplot:xlabel='salary', ylabel='randNumCol'>"
      ]
     },
     "execution_count": 64,
     "metadata": {},
     "output_type": "execute_result"
    },
    {
     "data": {
      "image/png": "[encoded data removed]",
      "text/plain": [
       "<Figure size 432x288 with 1 Axes>"
      ]
     },
     "metadata": {
      "needs_background": "light"
     },
     "output_type": "display_data"
    }
   ],
   "source": [
    "sns.scatterplot(data = merged_r, x ='salary', y = 'randNumCol', hue = 'position_Shortstop')"
   ]
  },
  {
   "cell_type": "markdown",
   "metadata": {
    "ExecuteTime": {
     "end_time": "2021-04-14T22:48:55.652173Z",
     "start_time": "2021-04-14T22:48:55.632164Z"
    }
   },
   "source": [
    "<span style=color:green><ins> Smote  </ins></span>"
   ]
  },
  {
   "cell_type": "markdown",
   "metadata": {
    "ExecuteTime": {
     "end_time": "2021-04-14T22:48:55.652173Z",
     "start_time": "2021-04-14T22:48:55.632164Z"
    }
   },
   "source": [
    "## <span style=color:red><ins> To be done in Sprint 14  </ins></span>"
   ]
  },
  {
   "cell_type": "markdown",
   "metadata": {},
   "source": [
    "# <span style=color:darkblue>Nivell 3</span>"
   ]
  },
  {
   "cell_type": "markdown",
   "metadata": {},
   "source": [
    "<u style=color:blue>Exercici 3:</u>\n",
    "\n",
    "<span style=color:blue>Continua amb el conjunt de dades de tema esportiu i genera una mostra utilitzant el mètode Reservoir sampling</span>"
   ]
  },
  {
   "cell_type": "markdown",
   "metadata": {},
   "source": [
    "https://towardsdatascience.com/the-5-sampling-algorithms-every-data-scientist-need-to-know-43c7bc11d17c"
   ]
  },
  {
   "cell_type": "code",
   "execution_count": 65,
   "metadata": {
    "ExecuteTime": {
     "end_time": "2021-04-23T09:52:02.828770Z",
     "start_time": "2021-04-23T09:52:02.794768Z"
    }
   },
   "outputs": [
    {
     "data": {
      "text/html": [
       "<div>\n",
       "<style scoped>\n",
       "    .dataframe tbody tr th:only-of-type {\n",
       "        vertical-align: middle;\n",
       "    }\n",
       "\n",
       "    .dataframe tbody tr th {\n",
       "        vertical-align: top;\n",
       "    }\n",
       "\n",
       "    .dataframe thead th {\n",
       "        text-align: right;\n",
       "    }\n",
       "</style>\n",
       "<table border=\"1\" class=\"dataframe\">\n",
       "  <thead>\n",
       "    <tr style=\"text-align: right;\">\n",
       "      <th></th>\n",
       "      <th>player</th>\n",
       "      <th>team</th>\n",
       "      <th>position</th>\n",
       "      <th>salary</th>\n",
       "    </tr>\n",
       "  </thead>\n",
       "  <tbody>\n",
       "    <tr>\n",
       "      <th>0</th>\n",
       "      <td>Brandon Webb</td>\n",
       "      <td>Arizona Diamondbacks</td>\n",
       "      <td>Pitcher</td>\n",
       "      <td>8500.0</td>\n",
       "    </tr>\n",
       "    <tr>\n",
       "      <th>1</th>\n",
       "      <td>Danny Haren</td>\n",
       "      <td>Arizona Diamondbacks</td>\n",
       "      <td>Pitcher</td>\n",
       "      <td>8250.0</td>\n",
       "    </tr>\n",
       "    <tr>\n",
       "      <th>2</th>\n",
       "      <td>Chris Snyder</td>\n",
       "      <td>Arizona Diamondbacks</td>\n",
       "      <td>Catcher</td>\n",
       "      <td>5250.0</td>\n",
       "    </tr>\n",
       "    <tr>\n",
       "      <th>3</th>\n",
       "      <td>Edwin Jackson</td>\n",
       "      <td>Arizona Diamondbacks</td>\n",
       "      <td>Pitcher</td>\n",
       "      <td>4600.0</td>\n",
       "    </tr>\n",
       "    <tr>\n",
       "      <th>4</th>\n",
       "      <td>Adam LaRoche</td>\n",
       "      <td>Arizona Diamondbacks</td>\n",
       "      <td>First Baseman</td>\n",
       "      <td>4500.0</td>\n",
       "    </tr>\n",
       "  </tbody>\n",
       "</table>\n",
       "</div>"
      ],
      "text/plain": [
       "          player                  team       position  salary\n",
       "0   Brandon Webb  Arizona Diamondbacks        Pitcher  8500.0\n",
       "1    Danny Haren  Arizona Diamondbacks        Pitcher  8250.0\n",
       "2   Chris Snyder  Arizona Diamondbacks        Catcher  5250.0\n",
       "3  Edwin Jackson  Arizona Diamondbacks        Pitcher  4600.0\n",
       "4   Adam LaRoche  Arizona Diamondbacks  First Baseman  4500.0"
      ]
     },
     "execution_count": 65,
     "metadata": {},
     "output_type": "execute_result"
    }
   ],
   "source": [
    "Mlb = pd.read_csv('MLB.txt', sep='\\t', encoding='utf-8')\n",
    "Mlb.head()"
   ]
  },
  {
   "cell_type": "markdown",
   "metadata": {},
   "source": [
    "<span style=color:green><ins> Dataframe to array  </ins></span>"
   ]
  },
  {
   "cell_type": "code",
   "execution_count": 66,
   "metadata": {
    "ExecuteTime": {
     "end_time": "2021-04-23T09:52:05.595764Z",
     "start_time": "2021-04-23T09:52:05.583771Z"
    }
   },
   "outputs": [],
   "source": [
    "stream = Mlb.to_numpy()"
   ]
  },
  {
   "cell_type": "markdown",
   "metadata": {},
   "source": [
    "<span style=color:green><ins> Reservoir sampling of 4 samples  </ins></span>"
   ]
  },
  {
   "cell_type": "code",
   "execution_count": 72,
   "metadata": {
    "ExecuteTime": {
     "end_time": "2021-04-23T09:53:52.689623Z",
     "start_time": "2021-04-23T09:53:52.669632Z"
    }
   },
   "outputs": [
    {
     "name": "stdout",
     "output_type": "stream",
     "text": [
      "[array(['Jair Jurrjens', 'Atlanta Braves', 'Pitcher', 480.0], dtype=object), array(['Andres Blanco', 'Texas Rangers', 'Shortstop', 510.0], dtype=object), array(['Rusty Ryal', 'Arizona Diamondbacks', 'Third Baseman', 401.0],\n",
      "      dtype=object), array(['Magglio Ordonez', 'Detroit Tigers', 'Outfielder',\n",
      "       17825.976000000002], dtype=object)]\n"
     ]
    }
   ],
   "source": [
    "# Doing Reservoir Sampling from the stream\n",
    "k=4\n",
    "reservoir = []\n",
    "for i, element in enumerate(stream):\n",
    "    if i+1<= k:\n",
    "        reservoir.append(element)\n",
    "    else:\n",
    "        probability = k/(i+1)\n",
    "        if random.random() < probability:\n",
    "            # Select item in stream and remove one of the k items already selected\n",
    "             reservoir[random.choice(range(0,k))] = element\n",
    "print(reservoir)"
   ]
  },
  {
   "cell_type": "code",
   "execution_count": 74,
   "metadata": {
    "ExecuteTime": {
     "end_time": "2021-04-23T09:54:05.910871Z",
     "start_time": "2021-04-23T09:54:05.883884Z"
    }
   },
   "outputs": [
    {
     "data": {
      "text/html": [
       "<div>\n",
       "<style scoped>\n",
       "    .dataframe tbody tr th:only-of-type {\n",
       "        vertical-align: middle;\n",
       "    }\n",
       "\n",
       "    .dataframe tbody tr th {\n",
       "        vertical-align: top;\n",
       "    }\n",
       "\n",
       "    .dataframe thead th {\n",
       "        text-align: right;\n",
       "    }\n",
       "</style>\n",
       "<table border=\"1\" class=\"dataframe\">\n",
       "  <thead>\n",
       "    <tr style=\"text-align: right;\">\n",
       "      <th></th>\n",
       "      <th>player</th>\n",
       "      <th>team</th>\n",
       "      <th>position</th>\n",
       "      <th>salary</th>\n",
       "    </tr>\n",
       "  </thead>\n",
       "  <tbody>\n",
       "    <tr>\n",
       "      <th>0</th>\n",
       "      <td>Jair Jurrjens</td>\n",
       "      <td>Atlanta Braves</td>\n",
       "      <td>Pitcher</td>\n",
       "      <td>480.000</td>\n",
       "    </tr>\n",
       "    <tr>\n",
       "      <th>1</th>\n",
       "      <td>Andres Blanco</td>\n",
       "      <td>Texas Rangers</td>\n",
       "      <td>Shortstop</td>\n",
       "      <td>510.000</td>\n",
       "    </tr>\n",
       "    <tr>\n",
       "      <th>2</th>\n",
       "      <td>Rusty Ryal</td>\n",
       "      <td>Arizona Diamondbacks</td>\n",
       "      <td>Third Baseman</td>\n",
       "      <td>401.000</td>\n",
       "    </tr>\n",
       "    <tr>\n",
       "      <th>3</th>\n",
       "      <td>Magglio Ordonez</td>\n",
       "      <td>Detroit Tigers</td>\n",
       "      <td>Outfielder</td>\n",
       "      <td>17825.976</td>\n",
       "    </tr>\n",
       "  </tbody>\n",
       "</table>\n",
       "</div>"
      ],
      "text/plain": [
       "            player                  team       position     salary\n",
       "0    Jair Jurrjens        Atlanta Braves        Pitcher    480.000\n",
       "1    Andres Blanco         Texas Rangers      Shortstop    510.000\n",
       "2       Rusty Ryal  Arizona Diamondbacks  Third Baseman    401.000\n",
       "3  Magglio Ordonez        Detroit Tigers     Outfielder  17825.976"
      ]
     },
     "execution_count": 74,
     "metadata": {},
     "output_type": "execute_result"
    }
   ],
   "source": [
    "reservoir_df = pd.DataFrame(data=reservoir, columns=[\"player\", \"team\",\"position\", \"salary\"])\n",
    "reservoir_df.head()"
   ]
  }
 ],
 "metadata": {
  "kernelspec": {
   "display_name": "Python 3",
   "language": "python",
   "name": "python3"
  },
  "language_info": {
   "codemirror_mode": {
    "name": "ipython",
    "version": 3
   },
   "file_extension": ".py",
   "mimetype": "text/x-python",
   "name": "python",
   "nbconvert_exporter": "python",
   "pygments_lexer": "ipython3",
   "version": "3.8.5"
  },
  "toc": {
   "base_numbering": 1,
   "nav_menu": {},
   "number_sections": true,
   "sideBar": true,
   "skip_h1_title": false,
   "title_cell": "Table of Contents",
   "title_sidebar": "Contents",
   "toc_cell": false,
   "toc_position": {
    "height": "calc(100% - 180px)",
    "left": "10px",
    "top": "150px",
    "width": "273.188px"
   },
   "toc_section_display": true,
   "toc_window_display": true
  }
 },
 "nbformat": 4,
 "nbformat_minor": 4
}
